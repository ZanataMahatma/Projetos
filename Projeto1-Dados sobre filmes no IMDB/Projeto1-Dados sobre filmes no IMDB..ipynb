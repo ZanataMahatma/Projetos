{
 "cells": [
  {
   "cell_type": "markdown",
   "id": "fe91522c",
   "metadata": {},
   "source": [
    "Ao aplicar Análise Exploratória de Dados vou responder a estas 10 perguntas:\n",
    "\n",
    "- 1- Quais São as Categorias de Filmes Mais Comuns no IMDB?\n",
    "- 2- Qual o Número de Títulos Por Gênero?\n",
    "- 3- Qual a Mediana de Avaliação dos Filmes Por Gênero?\n",
    "- 4- Qual a Mediana de Avaliação dos Filmes Em Relação ao Ano de Estréia?\n",
    "- 5- Qual o Número de Filmes Avaliados Por Gênero Em Relação ao Ano de Estréia?\n",
    "- 6- Qual o Filme Com Maior Tempo de Duração? Calcule os Percentis.\n",
    "- 7- Qual a Relação Entre Duração e Gênero?\n",
    "- 8- Qual o Número de Filmes Produzidos Por País?\n",
    "- 9- Quais São os Top 10 Melhores Filmes?\n",
    "- 10- Quais São os Top 10 Piores Filmes?"
   ]
  },
  {
   "cell_type": "markdown",
   "id": "f4beec74",
   "metadata": {},
   "source": [
    "# Instalando e Carregando Pacotes"
   ]
  },
  {
   "cell_type": "code",
   "execution_count": 1,
   "id": "8a297d8f",
   "metadata": {},
   "outputs": [
    {
     "name": "stdout",
     "output_type": "stream",
     "text": [
      "Versão da Python usada Neste Jupyter Notebook: 3.8.8\n"
     ]
    }
   ],
   "source": [
    "# Versão de  linguagem Python\n",
    "from platform import python_version\n",
    "print('Versão da Python usada Neste Jupyter Notebook:', python_version())"
   ]
  },
  {
   "cell_type": "code",
   "execution_count": 2,
   "id": "1c225337",
   "metadata": {},
   "outputs": [],
   "source": [
    "#instalar pacote\n",
    "!pip install -q imdb-sqlite"
   ]
  },
  {
   "cell_type": "code",
   "execution_count": 3,
   "id": "0d62b89f",
   "metadata": {},
   "outputs": [],
   "source": [
    "#instalar o pacote com os paises.\n",
    "!pip install -q pycountry"
   ]
  },
  {
   "cell_type": "code",
   "execution_count": 4,
   "id": "2f47baee",
   "metadata": {},
   "outputs": [],
   "source": [
    "import re #pacete de expreção regulares em texto - processa texto\n",
    "import time #para medir o tempo de exec ou trab com datas\n",
    "import sqlite3 #pacote para manipular banco de dados\n",
    "import pycountry#pacote com os paises\n",
    "import numpy as np#manipulação de dados\n",
    "import pandas as pd#manipulação de dados\n",
    "import matplotlib.pyplot as plt #visualização de dados graficos\n",
    "import seaborn as sns# visualização de dados graficos\n",
    "from matplotlib import cm# visualização de dados graficos\n",
    "from sklearn.feature_extraction.text import CountVectorizer#\"skylearn\" machine learnig python.\n",
    "import warnings# filtra qualquer tipo warnings\n",
    "warnings.filterwarnings(\"ignore\")#filtra qualquer tipo de warnings\n",
    "sns.set_theme(style =\"whitegrid\")#definição de estilo 'tema' Graficos"
   ]
  },
  {
   "cell_type": "markdown",
   "id": "f2de360b",
   "metadata": {},
   "source": [
    "# Carregando os Dados\n",
    "#### primeiro temos que baixa os dados!"
   ]
  },
  {
   "cell_type": "code",
   "execution_count": null,
   "id": "f65571b8",
   "metadata": {},
   "outputs": [],
   "source": [
    "%%time\n",
    "!imdb-sqlite"
   ]
  },
  {
   "cell_type": "code",
   "execution_count": 5,
   "id": "7c645377",
   "metadata": {},
   "outputs": [],
   "source": [
    "#conectar no banco de dados\n",
    "conn = sqlite3.connect(\"imdb.db\")"
   ]
  },
  {
   "cell_type": "code",
   "execution_count": 33,
   "id": "70bd5ef9",
   "metadata": {},
   "outputs": [],
   "source": [
    "# Extrai a lista de tabelas\n",
    "tabelas = pd.read_sql_query(\"SELECT NAME AS 'Table_Name' FROM sqlite_master WHERE type = 'table'\", conn)"
   ]
  },
  {
   "cell_type": "code",
   "execution_count": 34,
   "id": "b4a88e1d",
   "metadata": {},
   "outputs": [
    {
     "data": {
      "text/plain": [
       "pandas.core.frame.DataFrame"
      ]
     },
     "execution_count": 34,
     "metadata": {},
     "output_type": "execute_result"
    }
   ],
   "source": [
    "# tipo do objeto\n",
    "type(tabelas)"
   ]
  },
  {
   "cell_type": "code",
   "execution_count": 35,
   "id": "e1f6a6ef",
   "metadata": {},
   "outputs": [
    {
     "data": {
      "text/html": [
       "<div>\n",
       "<style scoped>\n",
       "    .dataframe tbody tr th:only-of-type {\n",
       "        vertical-align: middle;\n",
       "    }\n",
       "\n",
       "    .dataframe tbody tr th {\n",
       "        vertical-align: top;\n",
       "    }\n",
       "\n",
       "    .dataframe thead th {\n",
       "        text-align: right;\n",
       "    }\n",
       "</style>\n",
       "<table border=\"1\" class=\"dataframe\">\n",
       "  <thead>\n",
       "    <tr style=\"text-align: right;\">\n",
       "      <th></th>\n",
       "      <th>Table_Name</th>\n",
       "    </tr>\n",
       "  </thead>\n",
       "  <tbody>\n",
       "    <tr>\n",
       "      <th>0</th>\n",
       "      <td>people</td>\n",
       "    </tr>\n",
       "    <tr>\n",
       "      <th>1</th>\n",
       "      <td>titles</td>\n",
       "    </tr>\n",
       "    <tr>\n",
       "      <th>2</th>\n",
       "      <td>akas</td>\n",
       "    </tr>\n",
       "    <tr>\n",
       "      <th>3</th>\n",
       "      <td>crew</td>\n",
       "    </tr>\n",
       "    <tr>\n",
       "      <th>4</th>\n",
       "      <td>episodes</td>\n",
       "    </tr>\n",
       "  </tbody>\n",
       "</table>\n",
       "</div>"
      ],
      "text/plain": [
       "  Table_Name\n",
       "0     people\n",
       "1     titles\n",
       "2       akas\n",
       "3       crew\n",
       "4   episodes"
      ]
     },
     "execution_count": 35,
     "metadata": {},
     "output_type": "execute_result"
    }
   ],
   "source": [
    "# visualizar tabela\n",
    "tabelas.head()"
   ]
  },
  {
   "cell_type": "code",
   "execution_count": 36,
   "id": "724b1af0",
   "metadata": {},
   "outputs": [],
   "source": [
    "#convertendo essa tabela\"dataframe\" em lista\n",
    "tabelas = tabelas['Table_Name'].values.tolist()"
   ]
  },
  {
   "cell_type": "code",
   "execution_count": 37,
   "id": "2ab0abc9",
   "metadata": {},
   "outputs": [
    {
     "name": "stdout",
     "output_type": "stream",
     "text": [
      "Esquema da tabela: people\n"
     ]
    },
    {
     "data": {
      "text/html": [
       "<div>\n",
       "<style scoped>\n",
       "    .dataframe tbody tr th:only-of-type {\n",
       "        vertical-align: middle;\n",
       "    }\n",
       "\n",
       "    .dataframe tbody tr th {\n",
       "        vertical-align: top;\n",
       "    }\n",
       "\n",
       "    .dataframe thead th {\n",
       "        text-align: right;\n",
       "    }\n",
       "</style>\n",
       "<table border=\"1\" class=\"dataframe\">\n",
       "  <thead>\n",
       "    <tr style=\"text-align: right;\">\n",
       "      <th></th>\n",
       "      <th>cid</th>\n",
       "      <th>name</th>\n",
       "      <th>type</th>\n",
       "      <th>notnull</th>\n",
       "      <th>dflt_value</th>\n",
       "      <th>pk</th>\n",
       "    </tr>\n",
       "  </thead>\n",
       "  <tbody>\n",
       "    <tr>\n",
       "      <th>0</th>\n",
       "      <td>0</td>\n",
       "      <td>person_id</td>\n",
       "      <td>VARCHAR</td>\n",
       "      <td>0</td>\n",
       "      <td>None</td>\n",
       "      <td>1</td>\n",
       "    </tr>\n",
       "    <tr>\n",
       "      <th>1</th>\n",
       "      <td>1</td>\n",
       "      <td>name</td>\n",
       "      <td>VARCHAR</td>\n",
       "      <td>0</td>\n",
       "      <td>None</td>\n",
       "      <td>0</td>\n",
       "    </tr>\n",
       "    <tr>\n",
       "      <th>2</th>\n",
       "      <td>2</td>\n",
       "      <td>born</td>\n",
       "      <td>INTEGER</td>\n",
       "      <td>0</td>\n",
       "      <td>None</td>\n",
       "      <td>0</td>\n",
       "    </tr>\n",
       "    <tr>\n",
       "      <th>3</th>\n",
       "      <td>3</td>\n",
       "      <td>died</td>\n",
       "      <td>INTEGER</td>\n",
       "      <td>0</td>\n",
       "      <td>None</td>\n",
       "      <td>0</td>\n",
       "    </tr>\n",
       "  </tbody>\n",
       "</table>\n",
       "</div>"
      ],
      "text/plain": [
       "   cid       name     type  notnull dflt_value  pk\n",
       "0    0  person_id  VARCHAR        0       None   1\n",
       "1    1       name  VARCHAR        0       None   0\n",
       "2    2       born  INTEGER        0       None   0\n",
       "3    3       died  INTEGER        0       None   0"
      ]
     },
     "metadata": {},
     "output_type": "display_data"
    },
    {
     "name": "stdout",
     "output_type": "stream",
     "text": [
      "----------------------------------------------------------------------------------------------------\n",
      "\n",
      "\n",
      "Esquema da tabela: titles\n"
     ]
    },
    {
     "data": {
      "text/html": [
       "<div>\n",
       "<style scoped>\n",
       "    .dataframe tbody tr th:only-of-type {\n",
       "        vertical-align: middle;\n",
       "    }\n",
       "\n",
       "    .dataframe tbody tr th {\n",
       "        vertical-align: top;\n",
       "    }\n",
       "\n",
       "    .dataframe thead th {\n",
       "        text-align: right;\n",
       "    }\n",
       "</style>\n",
       "<table border=\"1\" class=\"dataframe\">\n",
       "  <thead>\n",
       "    <tr style=\"text-align: right;\">\n",
       "      <th></th>\n",
       "      <th>cid</th>\n",
       "      <th>name</th>\n",
       "      <th>type</th>\n",
       "      <th>notnull</th>\n",
       "      <th>dflt_value</th>\n",
       "      <th>pk</th>\n",
       "    </tr>\n",
       "  </thead>\n",
       "  <tbody>\n",
       "    <tr>\n",
       "      <th>0</th>\n",
       "      <td>0</td>\n",
       "      <td>title_id</td>\n",
       "      <td>VARCHAR</td>\n",
       "      <td>0</td>\n",
       "      <td>None</td>\n",
       "      <td>1</td>\n",
       "    </tr>\n",
       "    <tr>\n",
       "      <th>1</th>\n",
       "      <td>1</td>\n",
       "      <td>type</td>\n",
       "      <td>VARCHAR</td>\n",
       "      <td>0</td>\n",
       "      <td>None</td>\n",
       "      <td>0</td>\n",
       "    </tr>\n",
       "    <tr>\n",
       "      <th>2</th>\n",
       "      <td>2</td>\n",
       "      <td>primary_title</td>\n",
       "      <td>VARCHAR</td>\n",
       "      <td>0</td>\n",
       "      <td>None</td>\n",
       "      <td>0</td>\n",
       "    </tr>\n",
       "    <tr>\n",
       "      <th>3</th>\n",
       "      <td>3</td>\n",
       "      <td>original_title</td>\n",
       "      <td>VARCHAR</td>\n",
       "      <td>0</td>\n",
       "      <td>None</td>\n",
       "      <td>0</td>\n",
       "    </tr>\n",
       "    <tr>\n",
       "      <th>4</th>\n",
       "      <td>4</td>\n",
       "      <td>is_adult</td>\n",
       "      <td>INTEGER</td>\n",
       "      <td>0</td>\n",
       "      <td>None</td>\n",
       "      <td>0</td>\n",
       "    </tr>\n",
       "    <tr>\n",
       "      <th>5</th>\n",
       "      <td>5</td>\n",
       "      <td>premiered</td>\n",
       "      <td>INTEGER</td>\n",
       "      <td>0</td>\n",
       "      <td>None</td>\n",
       "      <td>0</td>\n",
       "    </tr>\n",
       "    <tr>\n",
       "      <th>6</th>\n",
       "      <td>6</td>\n",
       "      <td>ended</td>\n",
       "      <td>INTEGER</td>\n",
       "      <td>0</td>\n",
       "      <td>None</td>\n",
       "      <td>0</td>\n",
       "    </tr>\n",
       "    <tr>\n",
       "      <th>7</th>\n",
       "      <td>7</td>\n",
       "      <td>runtime_minutes</td>\n",
       "      <td>INTEGER</td>\n",
       "      <td>0</td>\n",
       "      <td>None</td>\n",
       "      <td>0</td>\n",
       "    </tr>\n",
       "    <tr>\n",
       "      <th>8</th>\n",
       "      <td>8</td>\n",
       "      <td>genres</td>\n",
       "      <td>VARCHAR</td>\n",
       "      <td>0</td>\n",
       "      <td>None</td>\n",
       "      <td>0</td>\n",
       "    </tr>\n",
       "  </tbody>\n",
       "</table>\n",
       "</div>"
      ],
      "text/plain": [
       "   cid             name     type  notnull dflt_value  pk\n",
       "0    0         title_id  VARCHAR        0       None   1\n",
       "1    1             type  VARCHAR        0       None   0\n",
       "2    2    primary_title  VARCHAR        0       None   0\n",
       "3    3   original_title  VARCHAR        0       None   0\n",
       "4    4         is_adult  INTEGER        0       None   0\n",
       "5    5        premiered  INTEGER        0       None   0\n",
       "6    6            ended  INTEGER        0       None   0\n",
       "7    7  runtime_minutes  INTEGER        0       None   0\n",
       "8    8           genres  VARCHAR        0       None   0"
      ]
     },
     "metadata": {},
     "output_type": "display_data"
    },
    {
     "name": "stdout",
     "output_type": "stream",
     "text": [
      "----------------------------------------------------------------------------------------------------\n",
      "\n",
      "\n",
      "Esquema da tabela: akas\n"
     ]
    },
    {
     "data": {
      "text/html": [
       "<div>\n",
       "<style scoped>\n",
       "    .dataframe tbody tr th:only-of-type {\n",
       "        vertical-align: middle;\n",
       "    }\n",
       "\n",
       "    .dataframe tbody tr th {\n",
       "        vertical-align: top;\n",
       "    }\n",
       "\n",
       "    .dataframe thead th {\n",
       "        text-align: right;\n",
       "    }\n",
       "</style>\n",
       "<table border=\"1\" class=\"dataframe\">\n",
       "  <thead>\n",
       "    <tr style=\"text-align: right;\">\n",
       "      <th></th>\n",
       "      <th>cid</th>\n",
       "      <th>name</th>\n",
       "      <th>type</th>\n",
       "      <th>notnull</th>\n",
       "      <th>dflt_value</th>\n",
       "      <th>pk</th>\n",
       "    </tr>\n",
       "  </thead>\n",
       "  <tbody>\n",
       "    <tr>\n",
       "      <th>0</th>\n",
       "      <td>0</td>\n",
       "      <td>title_id</td>\n",
       "      <td>VARCHAR</td>\n",
       "      <td>0</td>\n",
       "      <td>None</td>\n",
       "      <td>0</td>\n",
       "    </tr>\n",
       "    <tr>\n",
       "      <th>1</th>\n",
       "      <td>1</td>\n",
       "      <td>title</td>\n",
       "      <td>VARCHAR</td>\n",
       "      <td>0</td>\n",
       "      <td>None</td>\n",
       "      <td>0</td>\n",
       "    </tr>\n",
       "    <tr>\n",
       "      <th>2</th>\n",
       "      <td>2</td>\n",
       "      <td>region</td>\n",
       "      <td>VARCHAR</td>\n",
       "      <td>0</td>\n",
       "      <td>None</td>\n",
       "      <td>0</td>\n",
       "    </tr>\n",
       "    <tr>\n",
       "      <th>3</th>\n",
       "      <td>3</td>\n",
       "      <td>language</td>\n",
       "      <td>VARCHAR</td>\n",
       "      <td>0</td>\n",
       "      <td>None</td>\n",
       "      <td>0</td>\n",
       "    </tr>\n",
       "    <tr>\n",
       "      <th>4</th>\n",
       "      <td>4</td>\n",
       "      <td>types</td>\n",
       "      <td>VARCHAR</td>\n",
       "      <td>0</td>\n",
       "      <td>None</td>\n",
       "      <td>0</td>\n",
       "    </tr>\n",
       "    <tr>\n",
       "      <th>5</th>\n",
       "      <td>5</td>\n",
       "      <td>attributes</td>\n",
       "      <td>VARCHAR</td>\n",
       "      <td>0</td>\n",
       "      <td>None</td>\n",
       "      <td>0</td>\n",
       "    </tr>\n",
       "    <tr>\n",
       "      <th>6</th>\n",
       "      <td>6</td>\n",
       "      <td>is_original_title</td>\n",
       "      <td>INTEGER</td>\n",
       "      <td>0</td>\n",
       "      <td>None</td>\n",
       "      <td>0</td>\n",
       "    </tr>\n",
       "  </tbody>\n",
       "</table>\n",
       "</div>"
      ],
      "text/plain": [
       "   cid               name     type  notnull dflt_value  pk\n",
       "0    0           title_id  VARCHAR        0       None   0\n",
       "1    1              title  VARCHAR        0       None   0\n",
       "2    2             region  VARCHAR        0       None   0\n",
       "3    3           language  VARCHAR        0       None   0\n",
       "4    4              types  VARCHAR        0       None   0\n",
       "5    5         attributes  VARCHAR        0       None   0\n",
       "6    6  is_original_title  INTEGER        0       None   0"
      ]
     },
     "metadata": {},
     "output_type": "display_data"
    },
    {
     "name": "stdout",
     "output_type": "stream",
     "text": [
      "----------------------------------------------------------------------------------------------------\n",
      "\n",
      "\n",
      "Esquema da tabela: crew\n"
     ]
    },
    {
     "data": {
      "text/html": [
       "<div>\n",
       "<style scoped>\n",
       "    .dataframe tbody tr th:only-of-type {\n",
       "        vertical-align: middle;\n",
       "    }\n",
       "\n",
       "    .dataframe tbody tr th {\n",
       "        vertical-align: top;\n",
       "    }\n",
       "\n",
       "    .dataframe thead th {\n",
       "        text-align: right;\n",
       "    }\n",
       "</style>\n",
       "<table border=\"1\" class=\"dataframe\">\n",
       "  <thead>\n",
       "    <tr style=\"text-align: right;\">\n",
       "      <th></th>\n",
       "      <th>cid</th>\n",
       "      <th>name</th>\n",
       "      <th>type</th>\n",
       "      <th>notnull</th>\n",
       "      <th>dflt_value</th>\n",
       "      <th>pk</th>\n",
       "    </tr>\n",
       "  </thead>\n",
       "  <tbody>\n",
       "    <tr>\n",
       "      <th>0</th>\n",
       "      <td>0</td>\n",
       "      <td>title_id</td>\n",
       "      <td>VARCHAR</td>\n",
       "      <td>0</td>\n",
       "      <td>None</td>\n",
       "      <td>0</td>\n",
       "    </tr>\n",
       "    <tr>\n",
       "      <th>1</th>\n",
       "      <td>1</td>\n",
       "      <td>person_id</td>\n",
       "      <td>VARCHAR</td>\n",
       "      <td>0</td>\n",
       "      <td>None</td>\n",
       "      <td>0</td>\n",
       "    </tr>\n",
       "    <tr>\n",
       "      <th>2</th>\n",
       "      <td>2</td>\n",
       "      <td>category</td>\n",
       "      <td>VARCHAR</td>\n",
       "      <td>0</td>\n",
       "      <td>None</td>\n",
       "      <td>0</td>\n",
       "    </tr>\n",
       "    <tr>\n",
       "      <th>3</th>\n",
       "      <td>3</td>\n",
       "      <td>job</td>\n",
       "      <td>VARCHAR</td>\n",
       "      <td>0</td>\n",
       "      <td>None</td>\n",
       "      <td>0</td>\n",
       "    </tr>\n",
       "    <tr>\n",
       "      <th>4</th>\n",
       "      <td>4</td>\n",
       "      <td>characters</td>\n",
       "      <td>VARCHAR</td>\n",
       "      <td>0</td>\n",
       "      <td>None</td>\n",
       "      <td>0</td>\n",
       "    </tr>\n",
       "  </tbody>\n",
       "</table>\n",
       "</div>"
      ],
      "text/plain": [
       "   cid        name     type  notnull dflt_value  pk\n",
       "0    0    title_id  VARCHAR        0       None   0\n",
       "1    1   person_id  VARCHAR        0       None   0\n",
       "2    2    category  VARCHAR        0       None   0\n",
       "3    3         job  VARCHAR        0       None   0\n",
       "4    4  characters  VARCHAR        0       None   0"
      ]
     },
     "metadata": {},
     "output_type": "display_data"
    },
    {
     "name": "stdout",
     "output_type": "stream",
     "text": [
      "----------------------------------------------------------------------------------------------------\n",
      "\n",
      "\n",
      "Esquema da tabela: episodes\n"
     ]
    },
    {
     "data": {
      "text/html": [
       "<div>\n",
       "<style scoped>\n",
       "    .dataframe tbody tr th:only-of-type {\n",
       "        vertical-align: middle;\n",
       "    }\n",
       "\n",
       "    .dataframe tbody tr th {\n",
       "        vertical-align: top;\n",
       "    }\n",
       "\n",
       "    .dataframe thead th {\n",
       "        text-align: right;\n",
       "    }\n",
       "</style>\n",
       "<table border=\"1\" class=\"dataframe\">\n",
       "  <thead>\n",
       "    <tr style=\"text-align: right;\">\n",
       "      <th></th>\n",
       "      <th>cid</th>\n",
       "      <th>name</th>\n",
       "      <th>type</th>\n",
       "      <th>notnull</th>\n",
       "      <th>dflt_value</th>\n",
       "      <th>pk</th>\n",
       "    </tr>\n",
       "  </thead>\n",
       "  <tbody>\n",
       "    <tr>\n",
       "      <th>0</th>\n",
       "      <td>0</td>\n",
       "      <td>episode_title_id</td>\n",
       "      <td>INTEGER</td>\n",
       "      <td>0</td>\n",
       "      <td>None</td>\n",
       "      <td>0</td>\n",
       "    </tr>\n",
       "    <tr>\n",
       "      <th>1</th>\n",
       "      <td>1</td>\n",
       "      <td>show_title_id</td>\n",
       "      <td>INTEGER</td>\n",
       "      <td>0</td>\n",
       "      <td>None</td>\n",
       "      <td>0</td>\n",
       "    </tr>\n",
       "    <tr>\n",
       "      <th>2</th>\n",
       "      <td>2</td>\n",
       "      <td>season_number</td>\n",
       "      <td>INTEGER</td>\n",
       "      <td>0</td>\n",
       "      <td>None</td>\n",
       "      <td>0</td>\n",
       "    </tr>\n",
       "    <tr>\n",
       "      <th>3</th>\n",
       "      <td>3</td>\n",
       "      <td>eposide_number</td>\n",
       "      <td>INTEGER</td>\n",
       "      <td>0</td>\n",
       "      <td>None</td>\n",
       "      <td>0</td>\n",
       "    </tr>\n",
       "  </tbody>\n",
       "</table>\n",
       "</div>"
      ],
      "text/plain": [
       "   cid              name     type  notnull dflt_value  pk\n",
       "0    0  episode_title_id  INTEGER        0       None   0\n",
       "1    1     show_title_id  INTEGER        0       None   0\n",
       "2    2     season_number  INTEGER        0       None   0\n",
       "3    3    eposide_number  INTEGER        0       None   0"
      ]
     },
     "metadata": {},
     "output_type": "display_data"
    },
    {
     "name": "stdout",
     "output_type": "stream",
     "text": [
      "----------------------------------------------------------------------------------------------------\n",
      "\n",
      "\n",
      "Esquema da tabela: ratings\n"
     ]
    },
    {
     "data": {
      "text/html": [
       "<div>\n",
       "<style scoped>\n",
       "    .dataframe tbody tr th:only-of-type {\n",
       "        vertical-align: middle;\n",
       "    }\n",
       "\n",
       "    .dataframe tbody tr th {\n",
       "        vertical-align: top;\n",
       "    }\n",
       "\n",
       "    .dataframe thead th {\n",
       "        text-align: right;\n",
       "    }\n",
       "</style>\n",
       "<table border=\"1\" class=\"dataframe\">\n",
       "  <thead>\n",
       "    <tr style=\"text-align: right;\">\n",
       "      <th></th>\n",
       "      <th>cid</th>\n",
       "      <th>name</th>\n",
       "      <th>type</th>\n",
       "      <th>notnull</th>\n",
       "      <th>dflt_value</th>\n",
       "      <th>pk</th>\n",
       "    </tr>\n",
       "  </thead>\n",
       "  <tbody>\n",
       "    <tr>\n",
       "      <th>0</th>\n",
       "      <td>0</td>\n",
       "      <td>title_id</td>\n",
       "      <td>VARCHAR</td>\n",
       "      <td>0</td>\n",
       "      <td>None</td>\n",
       "      <td>1</td>\n",
       "    </tr>\n",
       "    <tr>\n",
       "      <th>1</th>\n",
       "      <td>1</td>\n",
       "      <td>rating</td>\n",
       "      <td>INTEGER</td>\n",
       "      <td>0</td>\n",
       "      <td>None</td>\n",
       "      <td>0</td>\n",
       "    </tr>\n",
       "    <tr>\n",
       "      <th>2</th>\n",
       "      <td>2</td>\n",
       "      <td>votes</td>\n",
       "      <td>INTEGER</td>\n",
       "      <td>0</td>\n",
       "      <td>None</td>\n",
       "      <td>0</td>\n",
       "    </tr>\n",
       "  </tbody>\n",
       "</table>\n",
       "</div>"
      ],
      "text/plain": [
       "   cid      name     type  notnull dflt_value  pk\n",
       "0    0  title_id  VARCHAR        0       None   1\n",
       "1    1    rating  INTEGER        0       None   0\n",
       "2    2     votes  INTEGER        0       None   0"
      ]
     },
     "metadata": {},
     "output_type": "display_data"
    },
    {
     "name": "stdout",
     "output_type": "stream",
     "text": [
      "----------------------------------------------------------------------------------------------------\n",
      "\n",
      "\n"
     ]
    }
   ],
   "source": [
    "# Vamos percorrer a lista de tabelas no banco de dados e extrair o esquema de cada uma\n",
    "for tabela in tabelas:\n",
    "    consulta = \"PRAGMA TABLE_INFO({})\".format(tabela)\n",
    "    resultado = pd.read_sql_query(consulta, conn)\n",
    "    print(\"Esquema da tabela:\", tabela)\n",
    "    display(resultado)\n",
    "    print(\"-\"*100)\n",
    "    print(\"\\n\")"
   ]
  },
  {
   "cell_type": "markdown",
   "id": "1df7ff15",
   "metadata": {},
   "source": [
    "# 1- Quais são as Categorias de Filmes mais Comuns no IMDB?\n",
    "##### Quais são as principais tipos (Categorias) dos títulos (filmes)?"
   ]
  },
  {
   "cell_type": "code",
   "execution_count": 38,
   "id": "64315bee",
   "metadata": {},
   "outputs": [],
   "source": [
    "#Cria a consulta SQL\n",
    "consulta1 = '''Select type, COUNT(*) AS COUNT FROM titles GROUP BY type'''"
   ]
  },
  {
   "cell_type": "code",
   "execution_count": 39,
   "id": "5d3768a7",
   "metadata": {},
   "outputs": [],
   "source": [
    "# Extrai o resultado\n",
    "resultado1 = pd.read_sql_query(consulta1,conn)"
   ]
  },
  {
   "cell_type": "code",
   "execution_count": 40,
   "id": "48eb10e1",
   "metadata": {},
   "outputs": [
    {
     "data": {
      "text/html": [
       "<div>\n",
       "<style scoped>\n",
       "    .dataframe tbody tr th:only-of-type {\n",
       "        vertical-align: middle;\n",
       "    }\n",
       "\n",
       "    .dataframe tbody tr th {\n",
       "        vertical-align: top;\n",
       "    }\n",
       "\n",
       "    .dataframe thead th {\n",
       "        text-align: right;\n",
       "    }\n",
       "</style>\n",
       "<table border=\"1\" class=\"dataframe\">\n",
       "  <thead>\n",
       "    <tr style=\"text-align: right;\">\n",
       "      <th></th>\n",
       "      <th>type</th>\n",
       "      <th>COUNT</th>\n",
       "    </tr>\n",
       "  </thead>\n",
       "  <tbody>\n",
       "    <tr>\n",
       "      <th>0</th>\n",
       "      <td>movie</td>\n",
       "      <td>583821</td>\n",
       "    </tr>\n",
       "    <tr>\n",
       "      <th>1</th>\n",
       "      <td>radioEpisode</td>\n",
       "      <td>1</td>\n",
       "    </tr>\n",
       "    <tr>\n",
       "      <th>2</th>\n",
       "      <td>radioSeries</td>\n",
       "      <td>1</td>\n",
       "    </tr>\n",
       "    <tr>\n",
       "      <th>3</th>\n",
       "      <td>short</td>\n",
       "      <td>823381</td>\n",
       "    </tr>\n",
       "    <tr>\n",
       "      <th>4</th>\n",
       "      <td>tvEpisode</td>\n",
       "      <td>5952182</td>\n",
       "    </tr>\n",
       "    <tr>\n",
       "      <th>5</th>\n",
       "      <td>tvMiniSeries</td>\n",
       "      <td>38551</td>\n",
       "    </tr>\n",
       "    <tr>\n",
       "      <th>6</th>\n",
       "      <td>tvMovie</td>\n",
       "      <td>132355</td>\n",
       "    </tr>\n",
       "    <tr>\n",
       "      <th>7</th>\n",
       "      <td>tvSeries</td>\n",
       "      <td>211741</td>\n",
       "    </tr>\n",
       "    <tr>\n",
       "      <th>8</th>\n",
       "      <td>tvShort</td>\n",
       "      <td>10157</td>\n",
       "    </tr>\n",
       "    <tr>\n",
       "      <th>9</th>\n",
       "      <td>tvSpecial</td>\n",
       "      <td>33516</td>\n",
       "    </tr>\n",
       "    <tr>\n",
       "      <th>10</th>\n",
       "      <td>video</td>\n",
       "      <td>315977</td>\n",
       "    </tr>\n",
       "    <tr>\n",
       "      <th>11</th>\n",
       "      <td>videoGame</td>\n",
       "      <td>28715</td>\n",
       "    </tr>\n",
       "  </tbody>\n",
       "</table>\n",
       "</div>"
      ],
      "text/plain": [
       "            type    COUNT\n",
       "0          movie   583821\n",
       "1   radioEpisode        1\n",
       "2    radioSeries        1\n",
       "3          short   823381\n",
       "4      tvEpisode  5952182\n",
       "5   tvMiniSeries    38551\n",
       "6        tvMovie   132355\n",
       "7       tvSeries   211741\n",
       "8        tvShort    10157\n",
       "9      tvSpecial    33516\n",
       "10         video   315977\n",
       "11     videoGame    28715"
      ]
     },
     "metadata": {},
     "output_type": "display_data"
    }
   ],
   "source": [
    "# Visualizar o resultado\n",
    "display(resultado1)"
   ]
  },
  {
   "cell_type": "code",
   "execution_count": 41,
   "id": "f2443a65",
   "metadata": {},
   "outputs": [],
   "source": [
    "# Vamos calcular o percentual para cada tipo\n",
    "resultado1['percentual'] = (resultado1['COUNT'] / resultado1['COUNT'].sum()) * 100"
   ]
  },
  {
   "cell_type": "code",
   "execution_count": 42,
   "id": "dd17271d",
   "metadata": {
    "scrolled": false
   },
   "outputs": [
    {
     "data": {
      "text/html": [
       "<div>\n",
       "<style scoped>\n",
       "    .dataframe tbody tr th:only-of-type {\n",
       "        vertical-align: middle;\n",
       "    }\n",
       "\n",
       "    .dataframe tbody tr th {\n",
       "        vertical-align: top;\n",
       "    }\n",
       "\n",
       "    .dataframe thead th {\n",
       "        text-align: right;\n",
       "    }\n",
       "</style>\n",
       "<table border=\"1\" class=\"dataframe\">\n",
       "  <thead>\n",
       "    <tr style=\"text-align: right;\">\n",
       "      <th></th>\n",
       "      <th>type</th>\n",
       "      <th>COUNT</th>\n",
       "      <th>percentual</th>\n",
       "    </tr>\n",
       "  </thead>\n",
       "  <tbody>\n",
       "    <tr>\n",
       "      <th>0</th>\n",
       "      <td>movie</td>\n",
       "      <td>583821</td>\n",
       "      <td>7.180719</td>\n",
       "    </tr>\n",
       "    <tr>\n",
       "      <th>1</th>\n",
       "      <td>radioEpisode</td>\n",
       "      <td>1</td>\n",
       "      <td>0.000012</td>\n",
       "    </tr>\n",
       "    <tr>\n",
       "      <th>2</th>\n",
       "      <td>radioSeries</td>\n",
       "      <td>1</td>\n",
       "      <td>0.000012</td>\n",
       "    </tr>\n",
       "    <tr>\n",
       "      <th>3</th>\n",
       "      <td>short</td>\n",
       "      <td>823381</td>\n",
       "      <td>10.127192</td>\n",
       "    </tr>\n",
       "    <tr>\n",
       "      <th>4</th>\n",
       "      <td>tvEpisode</td>\n",
       "      <td>5952182</td>\n",
       "      <td>73.208987</td>\n",
       "    </tr>\n",
       "    <tr>\n",
       "      <th>5</th>\n",
       "      <td>tvMiniSeries</td>\n",
       "      <td>38551</td>\n",
       "      <td>0.474159</td>\n",
       "    </tr>\n",
       "    <tr>\n",
       "      <th>6</th>\n",
       "      <td>tvMovie</td>\n",
       "      <td>132355</td>\n",
       "      <td>1.627903</td>\n",
       "    </tr>\n",
       "    <tr>\n",
       "      <th>7</th>\n",
       "      <td>tvSeries</td>\n",
       "      <td>211741</td>\n",
       "      <td>2.604313</td>\n",
       "    </tr>\n",
       "    <tr>\n",
       "      <th>8</th>\n",
       "      <td>tvShort</td>\n",
       "      <td>10157</td>\n",
       "      <td>0.124926</td>\n",
       "    </tr>\n",
       "    <tr>\n",
       "      <th>9</th>\n",
       "      <td>tvSpecial</td>\n",
       "      <td>33516</td>\n",
       "      <td>0.412231</td>\n",
       "    </tr>\n",
       "    <tr>\n",
       "      <th>10</th>\n",
       "      <td>video</td>\n",
       "      <td>315977</td>\n",
       "      <td>3.886366</td>\n",
       "    </tr>\n",
       "    <tr>\n",
       "      <th>11</th>\n",
       "      <td>videoGame</td>\n",
       "      <td>28715</td>\n",
       "      <td>0.353181</td>\n",
       "    </tr>\n",
       "  </tbody>\n",
       "</table>\n",
       "</div>"
      ],
      "text/plain": [
       "            type    COUNT  percentual\n",
       "0          movie   583821    7.180719\n",
       "1   radioEpisode        1    0.000012\n",
       "2    radioSeries        1    0.000012\n",
       "3          short   823381   10.127192\n",
       "4      tvEpisode  5952182   73.208987\n",
       "5   tvMiniSeries    38551    0.474159\n",
       "6        tvMovie   132355    1.627903\n",
       "7       tvSeries   211741    2.604313\n",
       "8        tvShort    10157    0.124926\n",
       "9      tvSpecial    33516    0.412231\n",
       "10         video   315977    3.886366\n",
       "11     videoGame    28715    0.353181"
      ]
     },
     "metadata": {},
     "output_type": "display_data"
    }
   ],
   "source": [
    "# Visualiza o resultado\n",
    "display(resultado1)"
   ]
  },
  {
   "cell_type": "code",
   "execution_count": 43,
   "id": "6456168f",
   "metadata": {},
   "outputs": [],
   "source": [
    "# Vamos cria um gráfico com apenas 4 categorias:\n",
    "# As 3 categorias com mais títulos e 1 categoria com todo o restante\n",
    "\n",
    "#Cria um dicionário vazio\n",
    "others = {}\n",
    "\n",
    "#Filtra o percentual em 5% e soma o total\n",
    "others['COUNT'] = resultado1[resultado1['percentual'] < 5]['COUNT'].sum()\n",
    "\n",
    "# Grava o percentual\n",
    "others['percentual'] = resultado1[resultado1['percentual'] < 5]['percentual'].sum()\n",
    "\n",
    "#Ajusta o nome\n",
    "others['type'] = 'others'"
   ]
  },
  {
   "cell_type": "code",
   "execution_count": 44,
   "id": "f1e85d0c",
   "metadata": {},
   "outputs": [
    {
     "data": {
      "text/plain": [
       "{'COUNT': 771014, 'percentual': 9.483102795213716, 'type': 'others'}"
      ]
     },
     "execution_count": 44,
     "metadata": {},
     "output_type": "execute_result"
    }
   ],
   "source": [
    "# Visualiza\n",
    "others"
   ]
  },
  {
   "cell_type": "code",
   "execution_count": 45,
   "id": "a9249f96",
   "metadata": {},
   "outputs": [],
   "source": [
    "# Filtra o dataframe de resultado\n",
    "resultado1 = resultado1[resultado1['percentual']> 5]"
   ]
  },
  {
   "cell_type": "code",
   "execution_count": 46,
   "id": "6b14ff77",
   "metadata": {},
   "outputs": [],
   "source": [
    "# Append com o dataframe de outras categorias\n",
    "resultado1 = resultado1.append(others, ignore_index = True)"
   ]
  },
  {
   "cell_type": "code",
   "execution_count": 47,
   "id": "c0333918",
   "metadata": {},
   "outputs": [],
   "source": [
    "# Ordena o resultado\n",
    "resultado1 = resultado1.sort_values(by = 'COUNT', ascending = False)"
   ]
  },
  {
   "cell_type": "code",
   "execution_count": 48,
   "id": "bcf74d05",
   "metadata": {},
   "outputs": [
    {
     "data": {
      "text/html": [
       "<div>\n",
       "<style scoped>\n",
       "    .dataframe tbody tr th:only-of-type {\n",
       "        vertical-align: middle;\n",
       "    }\n",
       "\n",
       "    .dataframe tbody tr th {\n",
       "        vertical-align: top;\n",
       "    }\n",
       "\n",
       "    .dataframe thead th {\n",
       "        text-align: right;\n",
       "    }\n",
       "</style>\n",
       "<table border=\"1\" class=\"dataframe\">\n",
       "  <thead>\n",
       "    <tr style=\"text-align: right;\">\n",
       "      <th></th>\n",
       "      <th>type</th>\n",
       "      <th>COUNT</th>\n",
       "      <th>percentual</th>\n",
       "    </tr>\n",
       "  </thead>\n",
       "  <tbody>\n",
       "    <tr>\n",
       "      <th>2</th>\n",
       "      <td>tvEpisode</td>\n",
       "      <td>5952182</td>\n",
       "      <td>73.208987</td>\n",
       "    </tr>\n",
       "    <tr>\n",
       "      <th>1</th>\n",
       "      <td>short</td>\n",
       "      <td>823381</td>\n",
       "      <td>10.127192</td>\n",
       "    </tr>\n",
       "    <tr>\n",
       "      <th>3</th>\n",
       "      <td>others</td>\n",
       "      <td>771014</td>\n",
       "      <td>9.483103</td>\n",
       "    </tr>\n",
       "    <tr>\n",
       "      <th>0</th>\n",
       "      <td>movie</td>\n",
       "      <td>583821</td>\n",
       "      <td>7.180719</td>\n",
       "    </tr>\n",
       "  </tbody>\n",
       "</table>\n",
       "</div>"
      ],
      "text/plain": [
       "        type    COUNT  percentual\n",
       "2  tvEpisode  5952182   73.208987\n",
       "1      short   823381   10.127192\n",
       "3     others   771014    9.483103\n",
       "0      movie   583821    7.180719"
      ]
     },
     "execution_count": 48,
     "metadata": {},
     "output_type": "execute_result"
    }
   ],
   "source": [
    "#visualiza\n",
    "resultado1.head()"
   ]
  },
  {
   "cell_type": "code",
   "execution_count": 49,
   "id": "279de5fa",
   "metadata": {},
   "outputs": [],
   "source": [
    "# Ajusta os labels\n",
    "labels = [str(resultado1['type'][i])+' '+'['+str(round(resultado1['percentual'][i],2)) +'%'+']' for i in resultado1.index]"
   ]
  },
  {
   "cell_type": "code",
   "execution_count": 50,
   "id": "48eeb6c4",
   "metadata": {},
   "outputs": [
    {
     "data": {
      "image/png": "[encoded data removed]",
      "text/plain": [
       "<Figure size 432x288 with 1 Axes>"
      ]
     },
     "metadata": {},
     "output_type": "display_data"
    }
   ],
   "source": [
    "# plot\n",
    "\n",
    "#Mapa de cores\n",
    "#https://matplotlib.org/stable/tutorials/colors/colormaps.html\n",
    "cs = cm.Set3(np.arange(100))\n",
    "\n",
    "# Cria a figura\n",
    "f = plt.figure()\n",
    "\n",
    "#Pie Plot\n",
    "plt.pie(resultado1['COUNT'], labeldistance = 1, radius = 3, colors = cs, wedgeprops = dict(width = 0.8))\n",
    "plt.legend(labels = labels, loc = 'center', prop = {'size':12})\n",
    "plt.title(\"Distribuição de Títulos\", loc = 'Center', fontdict = {'fontsize':20,'fontweight':20})\n",
    "plt.show()"
   ]
  },
  {
   "cell_type": "markdown",
   "id": "e9e66ab4",
   "metadata": {},
   "source": [
    "# Qual o número de Títulos por Gênero?\n",
    "#### Vamos calcular o número de filmes por gênero e entregar o resultado em valor percentual."
   ]
  },
  {
   "cell_type": "code",
   "execution_count": 51,
   "id": "c16aea70",
   "metadata": {},
   "outputs": [],
   "source": [
    "# Cria a consulta SQL\n",
    "consulta2 = '''SELECT genres, COUNT(*) FROM titles WHERE type = 'movie' GROUP BY genres'''"
   ]
  },
  {
   "cell_type": "code",
   "execution_count": 52,
   "id": "bf2f39f9",
   "metadata": {},
   "outputs": [],
   "source": [
    "# Resultado\n",
    "resultado2 = pd.read_sql_query(consulta2, conn)"
   ]
  },
  {
   "cell_type": "code",
   "execution_count": 53,
   "id": "034facb8",
   "metadata": {},
   "outputs": [
    {
     "data": {
      "text/html": [
       "<div>\n",
       "<style scoped>\n",
       "    .dataframe tbody tr th:only-of-type {\n",
       "        vertical-align: middle;\n",
       "    }\n",
       "\n",
       "    .dataframe tbody tr th {\n",
       "        vertical-align: top;\n",
       "    }\n",
       "\n",
       "    .dataframe thead th {\n",
       "        text-align: right;\n",
       "    }\n",
       "</style>\n",
       "<table border=\"1\" class=\"dataframe\">\n",
       "  <thead>\n",
       "    <tr style=\"text-align: right;\">\n",
       "      <th></th>\n",
       "      <th>genres</th>\n",
       "      <th>COUNT(*)</th>\n",
       "    </tr>\n",
       "  </thead>\n",
       "  <tbody>\n",
       "    <tr>\n",
       "      <th>0</th>\n",
       "      <td>Action</td>\n",
       "      <td>13288</td>\n",
       "    </tr>\n",
       "    <tr>\n",
       "      <th>1</th>\n",
       "      <td>Action,Adult</td>\n",
       "      <td>11</td>\n",
       "    </tr>\n",
       "    <tr>\n",
       "      <th>2</th>\n",
       "      <td>Action,Adult,Adventure</td>\n",
       "      <td>1</td>\n",
       "    </tr>\n",
       "    <tr>\n",
       "      <th>3</th>\n",
       "      <td>Action,Adult,Comedy</td>\n",
       "      <td>5</td>\n",
       "    </tr>\n",
       "    <tr>\n",
       "      <th>4</th>\n",
       "      <td>Action,Adult,Crime</td>\n",
       "      <td>10</td>\n",
       "    </tr>\n",
       "    <tr>\n",
       "      <th>...</th>\n",
       "      <td>...</td>\n",
       "      <td>...</td>\n",
       "    </tr>\n",
       "    <tr>\n",
       "      <th>1439</th>\n",
       "      <td>Thriller,Western</td>\n",
       "      <td>37</td>\n",
       "    </tr>\n",
       "    <tr>\n",
       "      <th>1440</th>\n",
       "      <td>War</td>\n",
       "      <td>1249</td>\n",
       "    </tr>\n",
       "    <tr>\n",
       "      <th>1441</th>\n",
       "      <td>War,Western</td>\n",
       "      <td>9</td>\n",
       "    </tr>\n",
       "    <tr>\n",
       "      <th>1442</th>\n",
       "      <td>Western</td>\n",
       "      <td>4035</td>\n",
       "    </tr>\n",
       "    <tr>\n",
       "      <th>1443</th>\n",
       "      <td>\\N</td>\n",
       "      <td>70552</td>\n",
       "    </tr>\n",
       "  </tbody>\n",
       "</table>\n",
       "<p>1444 rows × 2 columns</p>\n",
       "</div>"
      ],
      "text/plain": [
       "                      genres  COUNT(*)\n",
       "0                     Action     13288\n",
       "1               Action,Adult        11\n",
       "2     Action,Adult,Adventure         1\n",
       "3        Action,Adult,Comedy         5\n",
       "4         Action,Adult,Crime        10\n",
       "...                      ...       ...\n",
       "1439        Thriller,Western        37\n",
       "1440                     War      1249\n",
       "1441             War,Western         9\n",
       "1442                 Western      4035\n",
       "1443                      \\N     70552\n",
       "\n",
       "[1444 rows x 2 columns]"
      ]
     },
     "metadata": {},
     "output_type": "display_data"
    }
   ],
   "source": [
    "# Visualiza o resultado\n",
    "display(resultado2)"
   ]
  },
  {
   "cell_type": "code",
   "execution_count": 54,
   "id": "dfc92894",
   "metadata": {},
   "outputs": [],
   "source": [
    "# Converte as strings para minusculo\n",
    "resultado2['genres'] = resultado2['genres'].str.lower().values"
   ]
  },
  {
   "cell_type": "code",
   "execution_count": 55,
   "id": "c87d82d0",
   "metadata": {},
   "outputs": [],
   "source": [
    "# Remove valores NA (ausentes)\n",
    "temp = resultado2['genres'].dropna()"
   ]
  },
  {
   "cell_type": "code",
   "execution_count": 56,
   "id": "66e18993",
   "metadata": {},
   "outputs": [],
   "source": [
    "# Vamos criar um vetor usando expressão regular para filtrar as strings\n",
    "# https://docs.python.org/3.8/library/re.html\n",
    "padrao = '(?u)\\\\b[\\\\w-]+\\\\b'\n",
    "\n",
    "\n",
    "# https://scikit-learn.org/stable/modules/generated/sklearn.feature_extraction.text.CountVectorizer.html\n",
    "vetor = CountVectorizer(token_pattern = padrao, analyzer = 'word').fit(temp)"
   ]
  },
  {
   "cell_type": "code",
   "execution_count": 57,
   "id": "5c211a9d",
   "metadata": {},
   "outputs": [
    {
     "data": {
      "text/plain": [
       "sklearn.feature_extraction.text.CountVectorizer"
      ]
     },
     "execution_count": 57,
     "metadata": {},
     "output_type": "execute_result"
    }
   ],
   "source": [
    "type(vetor)"
   ]
  },
  {
   "cell_type": "code",
   "execution_count": 58,
   "id": "666aa941",
   "metadata": {},
   "outputs": [],
   "source": [
    "# Aplica a vetorização ao dataset sem valores NA\n",
    "bag_generos = vetor.transform(temp)"
   ]
  },
  {
   "cell_type": "code",
   "execution_count": 59,
   "id": "5a0b5c62",
   "metadata": {},
   "outputs": [
    {
     "data": {
      "text/plain": [
       "scipy.sparse.csr.csr_matrix"
      ]
     },
     "execution_count": 59,
     "metadata": {},
     "output_type": "execute_result"
    }
   ],
   "source": [
    "type(bag_generos)"
   ]
  },
  {
   "cell_type": "code",
   "execution_count": 60,
   "id": "f0ebb9eb",
   "metadata": {},
   "outputs": [],
   "source": [
    "# Retorna gêneros únicos\n",
    "generos_unicos = vetor.get_feature_names()"
   ]
  },
  {
   "cell_type": "code",
   "execution_count": 61,
   "id": "ce045189",
   "metadata": {},
   "outputs": [],
   "source": [
    "# Cria o dataframa de Gêneros\n",
    "generos = pd.DataFrame(bag_generos.todense(), columns = generos_unicos, index = temp.index)"
   ]
  },
  {
   "cell_type": "code",
   "execution_count": 62,
   "id": "9ca16d87",
   "metadata": {},
   "outputs": [
    {
     "name": "stdout",
     "output_type": "stream",
     "text": [
      "<class 'pandas.core.frame.DataFrame'>\n",
      "Int64Index: 1444 entries, 0 to 1443\n",
      "Data columns (total 29 columns):\n",
      " #   Column       Non-Null Count  Dtype\n",
      "---  ------       --------------  -----\n",
      " 0   action       1444 non-null   int64\n",
      " 1   adult        1444 non-null   int64\n",
      " 2   adventure    1444 non-null   int64\n",
      " 3   animation    1444 non-null   int64\n",
      " 4   biography    1444 non-null   int64\n",
      " 5   comedy       1444 non-null   int64\n",
      " 6   crime        1444 non-null   int64\n",
      " 7   documentary  1444 non-null   int64\n",
      " 8   drama        1444 non-null   int64\n",
      " 9   family       1444 non-null   int64\n",
      " 10  fantasy      1444 non-null   int64\n",
      " 11  film-noir    1444 non-null   int64\n",
      " 12  game-show    1444 non-null   int64\n",
      " 13  history      1444 non-null   int64\n",
      " 14  horror       1444 non-null   int64\n",
      " 15  music        1444 non-null   int64\n",
      " 16  musical      1444 non-null   int64\n",
      " 17  mystery      1444 non-null   int64\n",
      " 18  n            1444 non-null   int64\n",
      " 19  news         1444 non-null   int64\n",
      " 20  reality-tv   1444 non-null   int64\n",
      " 21  romance      1444 non-null   int64\n",
      " 22  sci-fi       1444 non-null   int64\n",
      " 23  short        1444 non-null   int64\n",
      " 24  sport        1444 non-null   int64\n",
      " 25  talk-show    1444 non-null   int64\n",
      " 26  thriller     1444 non-null   int64\n",
      " 27  war          1444 non-null   int64\n",
      " 28  western      1444 non-null   int64\n",
      "dtypes: int64(29)\n",
      "memory usage: 338.4 KB\n"
     ]
    }
   ],
   "source": [
    "# Visualiza\n",
    "generos.info()"
   ]
  },
  {
   "cell_type": "code",
   "execution_count": 63,
   "id": "508cc0e1",
   "metadata": {},
   "outputs": [],
   "source": [
    "# Drop da coluna n\n",
    "generos = generos.drop(columns = 'n', axis = 0)"
   ]
  },
  {
   "cell_type": "code",
   "execution_count": 64,
   "id": "232eaeea",
   "metadata": {},
   "outputs": [],
   "source": [
    "# Calcula o percentual\n",
    "generos_percentual = 100 * pd.Series(generos.sum()).sort_values(ascending = False) / generos.shape[0]"
   ]
  },
  {
   "cell_type": "code",
   "execution_count": 65,
   "id": "8d9e9329",
   "metadata": {},
   "outputs": [
    {
     "data": {
      "text/plain": [
       "drama          18.421053\n",
       "comedy         16.828255\n",
       "documentary    15.997230\n",
       "adventure      14.889197\n",
       "action         14.612188\n",
       "romance        13.504155\n",
       "crime          13.019391\n",
       "mystery        12.603878\n",
       "thriller       12.396122\n",
       "fantasy        12.257618\n",
       "dtype: float64"
      ]
     },
     "execution_count": 65,
     "metadata": {},
     "output_type": "execute_result"
    }
   ],
   "source": [
    "# Visualiza\n",
    "generos_percentual.head(10)"
   ]
  },
  {
   "cell_type": "code",
   "execution_count": 66,
   "id": "10ead35c",
   "metadata": {},
   "outputs": [
    {
     "data": {
      "image/png": "[encoded data removed]",
      "text/plain": [
       "<Figure size 1152x576 with 1 Axes>"
      ]
     },
     "metadata": {},
     "output_type": "display_data"
    }
   ],
   "source": [
    "# Plot\n",
    "plt.figure(figsize = (16,8))\n",
    "sns.barplot(x = generos_percentual.values, y = generos_percentual.index, orient = \"h\", palette = \"terrain\")\n",
    "plt.ylabel('Gênero')             \n",
    "plt.xlabel(\"\\nPercentual de Filmes (%)\")\n",
    "plt.title('\\nNúmero (Percentual) de Títulos Por Gênero\\n')\n",
    "plt.show()"
   ]
  },
  {
   "cell_type": "markdown",
   "id": "789f7c96",
   "metadata": {},
   "source": [
    "## 3- Qual a Mediana de Avaliação dos Filmes Por Gênero?\n",
    "\n",
    "Mediana de avaliação dos filmes."
   ]
  },
  {
   "cell_type": "code",
   "execution_count": 67,
   "id": "bdff396f",
   "metadata": {},
   "outputs": [],
   "source": [
    "# Consulta SQL\n",
    "consulta3 = '''\n",
    "            SELECT rating, genres FROM \n",
    "            ratings JOIN titles ON ratings.title_id = titles.title_id \n",
    "            WHERE premiered <= 2022 AND type = 'movie'\n",
    "            ''' "
   ]
  },
  {
   "cell_type": "code",
   "execution_count": 68,
   "id": "2b129a5a",
   "metadata": {},
   "outputs": [],
   "source": [
    "# Resultado\n",
    "resultado3 = pd.read_sql_query(consulta3, conn)"
   ]
  },
  {
   "cell_type": "code",
   "execution_count": 69,
   "id": "04a01fe4",
   "metadata": {},
   "outputs": [
    {
     "data": {
      "text/html": [
       "<div>\n",
       "<style scoped>\n",
       "    .dataframe tbody tr th:only-of-type {\n",
       "        vertical-align: middle;\n",
       "    }\n",
       "\n",
       "    .dataframe tbody tr th {\n",
       "        vertical-align: top;\n",
       "    }\n",
       "\n",
       "    .dataframe thead th {\n",
       "        text-align: right;\n",
       "    }\n",
       "</style>\n",
       "<table border=\"1\" class=\"dataframe\">\n",
       "  <thead>\n",
       "    <tr style=\"text-align: right;\">\n",
       "      <th></th>\n",
       "      <th>rating</th>\n",
       "      <th>genres</th>\n",
       "    </tr>\n",
       "  </thead>\n",
       "  <tbody>\n",
       "    <tr>\n",
       "      <th>0</th>\n",
       "      <td>4.5</td>\n",
       "      <td>\\N</td>\n",
       "    </tr>\n",
       "    <tr>\n",
       "      <th>1</th>\n",
       "      <td>6.1</td>\n",
       "      <td>Action,Adventure,Biography</td>\n",
       "    </tr>\n",
       "    <tr>\n",
       "      <th>2</th>\n",
       "      <td>5.2</td>\n",
       "      <td>Drama</td>\n",
       "    </tr>\n",
       "    <tr>\n",
       "      <th>3</th>\n",
       "      <td>4.5</td>\n",
       "      <td>Drama</td>\n",
       "    </tr>\n",
       "    <tr>\n",
       "      <th>4</th>\n",
       "      <td>3.8</td>\n",
       "      <td>Drama</td>\n",
       "    </tr>\n",
       "    <tr>\n",
       "      <th>...</th>\n",
       "      <td>...</td>\n",
       "      <td>...</td>\n",
       "    </tr>\n",
       "    <tr>\n",
       "      <th>266401</th>\n",
       "      <td>3.5</td>\n",
       "      <td>Action,Adventure,Thriller</td>\n",
       "    </tr>\n",
       "    <tr>\n",
       "      <th>266402</th>\n",
       "      <td>5.8</td>\n",
       "      <td>Thriller</td>\n",
       "    </tr>\n",
       "    <tr>\n",
       "      <th>266403</th>\n",
       "      <td>6.3</td>\n",
       "      <td>Adventure,Drama,History</td>\n",
       "    </tr>\n",
       "    <tr>\n",
       "      <th>266404</th>\n",
       "      <td>3.8</td>\n",
       "      <td>Adventure,History,War</td>\n",
       "    </tr>\n",
       "    <tr>\n",
       "      <th>266405</th>\n",
       "      <td>8.3</td>\n",
       "      <td>Drama</td>\n",
       "    </tr>\n",
       "  </tbody>\n",
       "</table>\n",
       "<p>266406 rows × 2 columns</p>\n",
       "</div>"
      ],
      "text/plain": [
       "        rating                      genres\n",
       "0          4.5                          \\N\n",
       "1          6.1  Action,Adventure,Biography\n",
       "2          5.2                       Drama\n",
       "3          4.5                       Drama\n",
       "4          3.8                       Drama\n",
       "...        ...                         ...\n",
       "266401     3.5   Action,Adventure,Thriller\n",
       "266402     5.8                    Thriller\n",
       "266403     6.3     Adventure,Drama,History\n",
       "266404     3.8       Adventure,History,War\n",
       "266405     8.3                       Drama\n",
       "\n",
       "[266406 rows x 2 columns]"
      ]
     },
     "metadata": {},
     "output_type": "display_data"
    }
   ],
   "source": [
    "#Visualizar\n",
    "display(resultado3)"
   ]
  },
  {
   "cell_type": "code",
   "execution_count": 70,
   "id": "06417d22",
   "metadata": {},
   "outputs": [],
   "source": [
    "# Vamos criar uma função para retornar os genêros\n",
    "def retorna_generos(df):\n",
    "    df['genres'] = df['genres'].str.lower().values\n",
    "    temp = df['genres'].dropna()\n",
    "    vetor = CountVectorizer(token_pattern = '(?u)\\\\b[\\\\w-]+\\\\b', analyzer = 'word').fit(temp)\n",
    "    generos_unicos =  vetor.get_feature_names()\n",
    "    generos_unicos = [genre for genre in generos_unicos if len(genre) > 1]\n",
    "    return generos_unicos"
   ]
  },
  {
   "cell_type": "code",
   "execution_count": 71,
   "id": "cf96813e",
   "metadata": {},
   "outputs": [],
   "source": [
    "# Aplica a função\n",
    "generos_unicos = retorna_generos(resultado3)"
   ]
  },
  {
   "cell_type": "code",
   "execution_count": 72,
   "id": "9d618dd1",
   "metadata": {},
   "outputs": [
    {
     "data": {
      "text/plain": [
       "['action',\n",
       " 'adult',\n",
       " 'adventure',\n",
       " 'animation',\n",
       " 'biography',\n",
       " 'comedy',\n",
       " 'crime',\n",
       " 'documentary',\n",
       " 'drama',\n",
       " 'family',\n",
       " 'fantasy',\n",
       " 'film-noir',\n",
       " 'game-show',\n",
       " 'history',\n",
       " 'horror',\n",
       " 'music',\n",
       " 'musical',\n",
       " 'mystery',\n",
       " 'news',\n",
       " 'reality-tv',\n",
       " 'romance',\n",
       " 'sci-fi',\n",
       " 'short',\n",
       " 'sport',\n",
       " 'talk-show',\n",
       " 'thriller',\n",
       " 'war',\n",
       " 'western']"
      ]
     },
     "execution_count": 72,
     "metadata": {},
     "output_type": "execute_result"
    }
   ],
   "source": [
    "# Visualiza\n",
    "generos_unicos"
   ]
  },
  {
   "cell_type": "code",
   "execution_count": 73,
   "id": "11d96c70",
   "metadata": {},
   "outputs": [],
   "source": [
    "# Cria listas vazias\n",
    "genero_counts = []\n",
    "genero_ratings = []"
   ]
  },
  {
   "cell_type": "code",
   "execution_count": 74,
   "id": "8edd8e5e",
   "metadata": {},
   "outputs": [],
   "source": [
    "# Loop\n",
    "for item in generos_unicos:\n",
    "    \n",
    "    # Retorna a contagem de filmes por gênero\n",
    "    consulta = 'SELECT COUNT(rating) FROM ratings JOIN titles ON ratings.title_id=titles.title_id WHERE genres LIKE '+ '\\''+'%'+item+'%'+'\\' AND type=\\'movie\\''\n",
    "    resultado = pd.read_sql_query(consulta, conn)\n",
    "    genero_counts.append(resultado.values[0][0])\n",
    "  \n",
    "     # Retorna a avaliação de filmes por gênero\n",
    "    consulta = 'SELECT rating FROM ratings JOIN titles ON ratings.title_id=titles.title_id WHERE genres LIKE '+ '\\''+'%'+item+'%'+'\\' AND type=\\'movie\\''\n",
    "    resultado = pd.read_sql_query(consulta, conn)\n",
    "    genero_ratings.append(np.median(resultado['rating']))"
   ]
  },
  {
   "cell_type": "code",
   "execution_count": 75,
   "id": "7591dbf6",
   "metadata": {},
   "outputs": [],
   "source": [
    "# Prepara o dataframe final\n",
    "df_genero_ratings = pd.DataFrame()\n",
    "df_genero_ratings['genres'] = generos_unicos\n",
    "df_genero_ratings['count'] = genero_counts\n",
    "df_genero_ratings['rating'] = genero_ratings"
   ]
  },
  {
   "cell_type": "code",
   "execution_count": 76,
   "id": "988149a5",
   "metadata": {},
   "outputs": [
    {
     "data": {
      "text/html": [
       "<div>\n",
       "<style scoped>\n",
       "    .dataframe tbody tr th:only-of-type {\n",
       "        vertical-align: middle;\n",
       "    }\n",
       "\n",
       "    .dataframe tbody tr th {\n",
       "        vertical-align: top;\n",
       "    }\n",
       "\n",
       "    .dataframe thead th {\n",
       "        text-align: right;\n",
       "    }\n",
       "</style>\n",
       "<table border=\"1\" class=\"dataframe\">\n",
       "  <thead>\n",
       "    <tr style=\"text-align: right;\">\n",
       "      <th></th>\n",
       "      <th>genres</th>\n",
       "      <th>count</th>\n",
       "      <th>rating</th>\n",
       "    </tr>\n",
       "  </thead>\n",
       "  <tbody>\n",
       "    <tr>\n",
       "      <th>0</th>\n",
       "      <td>action</td>\n",
       "      <td>28621</td>\n",
       "      <td>5.80</td>\n",
       "    </tr>\n",
       "    <tr>\n",
       "      <th>1</th>\n",
       "      <td>adult</td>\n",
       "      <td>4075</td>\n",
       "      <td>5.80</td>\n",
       "    </tr>\n",
       "    <tr>\n",
       "      <th>2</th>\n",
       "      <td>adventure</td>\n",
       "      <td>17579</td>\n",
       "      <td>6.00</td>\n",
       "    </tr>\n",
       "    <tr>\n",
       "      <th>3</th>\n",
       "      <td>animation</td>\n",
       "      <td>4641</td>\n",
       "      <td>6.40</td>\n",
       "    </tr>\n",
       "    <tr>\n",
       "      <th>4</th>\n",
       "      <td>biography</td>\n",
       "      <td>8000</td>\n",
       "      <td>7.00</td>\n",
       "    </tr>\n",
       "    <tr>\n",
       "      <th>5</th>\n",
       "      <td>comedy</td>\n",
       "      <td>66495</td>\n",
       "      <td>6.00</td>\n",
       "    </tr>\n",
       "    <tr>\n",
       "      <th>6</th>\n",
       "      <td>crime</td>\n",
       "      <td>22985</td>\n",
       "      <td>6.10</td>\n",
       "    </tr>\n",
       "    <tr>\n",
       "      <th>7</th>\n",
       "      <td>documentary</td>\n",
       "      <td>38944</td>\n",
       "      <td>7.30</td>\n",
       "    </tr>\n",
       "    <tr>\n",
       "      <th>8</th>\n",
       "      <td>drama</td>\n",
       "      <td>118306</td>\n",
       "      <td>6.30</td>\n",
       "    </tr>\n",
       "    <tr>\n",
       "      <th>9</th>\n",
       "      <td>family</td>\n",
       "      <td>10134</td>\n",
       "      <td>6.30</td>\n",
       "    </tr>\n",
       "    <tr>\n",
       "      <th>10</th>\n",
       "      <td>fantasy</td>\n",
       "      <td>7902</td>\n",
       "      <td>6.10</td>\n",
       "    </tr>\n",
       "    <tr>\n",
       "      <th>11</th>\n",
       "      <td>film-noir</td>\n",
       "      <td>761</td>\n",
       "      <td>6.60</td>\n",
       "    </tr>\n",
       "    <tr>\n",
       "      <th>12</th>\n",
       "      <td>game-show</td>\n",
       "      <td>3</td>\n",
       "      <td>7.20</td>\n",
       "    </tr>\n",
       "    <tr>\n",
       "      <th>13</th>\n",
       "      <td>history</td>\n",
       "      <td>7331</td>\n",
       "      <td>6.90</td>\n",
       "    </tr>\n",
       "    <tr>\n",
       "      <th>14</th>\n",
       "      <td>horror</td>\n",
       "      <td>18738</td>\n",
       "      <td>5.00</td>\n",
       "    </tr>\n",
       "    <tr>\n",
       "      <th>15</th>\n",
       "      <td>music</td>\n",
       "      <td>12274</td>\n",
       "      <td>6.60</td>\n",
       "    </tr>\n",
       "    <tr>\n",
       "      <th>16</th>\n",
       "      <td>musical</td>\n",
       "      <td>5918</td>\n",
       "      <td>6.30</td>\n",
       "    </tr>\n",
       "    <tr>\n",
       "      <th>17</th>\n",
       "      <td>mystery</td>\n",
       "      <td>9916</td>\n",
       "      <td>6.00</td>\n",
       "    </tr>\n",
       "    <tr>\n",
       "      <th>18</th>\n",
       "      <td>news</td>\n",
       "      <td>660</td>\n",
       "      <td>7.30</td>\n",
       "    </tr>\n",
       "    <tr>\n",
       "      <th>19</th>\n",
       "      <td>reality-tv</td>\n",
       "      <td>36</td>\n",
       "      <td>6.65</td>\n",
       "    </tr>\n",
       "  </tbody>\n",
       "</table>\n",
       "</div>"
      ],
      "text/plain": [
       "         genres   count  rating\n",
       "0        action   28621    5.80\n",
       "1         adult    4075    5.80\n",
       "2     adventure   17579    6.00\n",
       "3     animation    4641    6.40\n",
       "4     biography    8000    7.00\n",
       "5        comedy   66495    6.00\n",
       "6         crime   22985    6.10\n",
       "7   documentary   38944    7.30\n",
       "8         drama  118306    6.30\n",
       "9        family   10134    6.30\n",
       "10      fantasy    7902    6.10\n",
       "11    film-noir     761    6.60\n",
       "12    game-show       3    7.20\n",
       "13      history    7331    6.90\n",
       "14       horror   18738    5.00\n",
       "15        music   12274    6.60\n",
       "16      musical    5918    6.30\n",
       "17      mystery    9916    6.00\n",
       "18         news     660    7.30\n",
       "19   reality-tv      36    6.65"
      ]
     },
     "execution_count": 76,
     "metadata": {},
     "output_type": "execute_result"
    }
   ],
   "source": [
    "# Visualiza\n",
    "df_genero_ratings.head(20)"
   ]
  },
  {
   "cell_type": "code",
   "execution_count": 77,
   "id": "761e6553",
   "metadata": {},
   "outputs": [],
   "source": [
    "# Drop do índice 18 (news)\n",
    "# Não queremos essa informação como gênero\n",
    "df_genero_ratings = df_genero_ratings.drop(index = 18)"
   ]
  },
  {
   "cell_type": "code",
   "execution_count": 78,
   "id": "e8118b85",
   "metadata": {},
   "outputs": [],
   "source": [
    "# Ordena o resultado\n",
    "df_genero_ratings = df_genero_ratings.sort_values(by = 'rating', ascending = False)"
   ]
  },
  {
   "cell_type": "code",
   "execution_count": 79,
   "id": "d09fc91c",
   "metadata": {},
   "outputs": [
    {
     "data": {
      "image/png": "[encoded data removed]",
      "text/plain": [
       "<Figure size 1152x720 with 1 Axes>"
      ]
     },
     "metadata": {},
     "output_type": "display_data"
    }
   ],
   "source": [
    "# Plot\n",
    "\n",
    "# Figura\n",
    "plt.figure(figsize = (16,10))\n",
    "\n",
    "# Barplot\n",
    "sns.barplot(y = df_genero_ratings.genres, x = df_genero_ratings.rating, orient = \"h\")\n",
    "\n",
    "# Textos do gráfico\n",
    "for i in range(len(df_genero_ratings.index)):\n",
    "    \n",
    "    plt.text(4.0, \n",
    "             i + 0.25, \n",
    "             str(df_genero_ratings['count'][df_genero_ratings.index[i]]) + \" filmes\")\n",
    "    \n",
    "    plt.text(df_genero_ratings.rating[df_genero_ratings.index[i]],\n",
    "             i + 0.25,\n",
    "             round(df_genero_ratings[\"rating\"][df_genero_ratings.index[i]],2))\n",
    "\n",
    "plt.ylabel('Gênero')             \n",
    "plt.xlabel('Mediana da Avaliação')\n",
    "plt.title('\\nMediana de Avaliação Por Gênero\\n')\n",
    "plt.show()"
   ]
  },
  {
   "cell_type": "markdown",
   "id": "86addd47",
   "metadata": {},
   "source": [
    "## 4- Qual a Mediana de Avaliação dos Filmes Em Relação ao Ano de Estréia?\n",
    "\n",
    "Mediana de avaliação dos filmes."
   ]
  },
  {
   "cell_type": "code",
   "execution_count": 80,
   "id": "d8dbcf91",
   "metadata": {},
   "outputs": [],
   "source": [
    "# Consulta SQL\n",
    "consulta4 = '''\n",
    "            SELECT rating AS Rating, premiered FROM \n",
    "            ratings JOIN titles ON ratings.title_id = titles.title_id \n",
    "            WHERE premiered <= 2022 AND type = 'movie'\n",
    "            ORDER BY premiered\n",
    "            ''' "
   ]
  },
  {
   "cell_type": "code",
   "execution_count": 81,
   "id": "bcdb536a",
   "metadata": {},
   "outputs": [],
   "source": [
    "# Resultado\n",
    "resultado4 = pd.read_sql_query(consulta4, conn)"
   ]
  },
  {
   "cell_type": "code",
   "execution_count": 82,
   "id": "5adefb3e",
   "metadata": {},
   "outputs": [],
   "source": [
    "# Calculamos a mediana ao longo do tempo (anos)\n",
    "ratings = []\n",
    "for year in set(resultado4['premiered']):\n",
    "    ratings.append(np.median(resultado4[resultado4['premiered'] == year]['Rating']))"
   ]
  },
  {
   "cell_type": "code",
   "execution_count": 83,
   "id": "e16cadb0",
   "metadata": {},
   "outputs": [
    {
     "data": {
      "text/plain": [
       "list"
      ]
     },
     "execution_count": 83,
     "metadata": {},
     "output_type": "execute_result"
    }
   ],
   "source": [
    "type(ratings)"
   ]
  },
  {
   "cell_type": "code",
   "execution_count": 84,
   "id": "34a4b758",
   "metadata": {},
   "outputs": [
    {
     "data": {
      "text/plain": [
       "[4.4, 3.8, 6.15, 4.5, 3.5, 4.6, 5.4, 4.3, 3.6]"
      ]
     },
     "execution_count": 84,
     "metadata": {},
     "output_type": "execute_result"
    }
   ],
   "source": [
    "ratings[1:10]"
   ]
  },
  {
   "cell_type": "code",
   "execution_count": 85,
   "id": "91e2228b",
   "metadata": {},
   "outputs": [],
   "source": [
    "# Lista de anos\n",
    "anos = list(set(resultado4['premiered']))"
   ]
  },
  {
   "cell_type": "code",
   "execution_count": 86,
   "id": "4d560514",
   "metadata": {},
   "outputs": [
    {
     "data": {
      "text/plain": [
       "[1897, 1899, 1900, 1901, 1902, 1903, 1904, 1905, 1906]"
      ]
     },
     "execution_count": 86,
     "metadata": {},
     "output_type": "execute_result"
    }
   ],
   "source": [
    "anos[1:10]"
   ]
  },
  {
   "cell_type": "code",
   "execution_count": 87,
   "id": "3e15cf39",
   "metadata": {},
   "outputs": [
    {
     "data": {
      "image/png": "[encoded data removed]",
      "text/plain": [
       "<Figure size 1152x576 with 1 Axes>"
      ]
     },
     "metadata": {},
     "output_type": "display_data"
    }
   ],
   "source": [
    "# Plot\n",
    "plt.figure(figsize = (16,8))\n",
    "plt.plot(anos, ratings)\n",
    "plt.xlabel('\\nAno')\n",
    "plt.ylabel('Mediana de Avaliação')\n",
    "plt.title('\\nMediana de Avaliação dos Filmes Em Relação ao Ano de Estréia\\n')\n",
    "plt.show()"
   ]
  },
  {
   "cell_type": "markdown",
   "id": "e9b678ae",
   "metadata": {},
   "source": [
    "## 5- Qual o Número de Filmes Avaliados Por Gênero Em Relação ao Ano de Estréia?\n",
    "\n",
    "Número de filmes por gênero. Vamos listar os Top 5."
   ]
  },
  {
   "cell_type": "code",
   "execution_count": 88,
   "id": "7d495e51",
   "metadata": {},
   "outputs": [],
   "source": [
    "# Consulta SQL\n",
    "consulta5 = '''SELECT genres FROM titles ''' "
   ]
  },
  {
   "cell_type": "code",
   "execution_count": 89,
   "id": "636c9157",
   "metadata": {},
   "outputs": [],
   "source": [
    "# Resultado\n",
    "resultado5 = pd.read_sql_query(consulta5, conn)"
   ]
  },
  {
   "cell_type": "code",
   "execution_count": 90,
   "id": "600a84a2",
   "metadata": {},
   "outputs": [
    {
     "data": {
      "text/html": [
       "<div>\n",
       "<style scoped>\n",
       "    .dataframe tbody tr th:only-of-type {\n",
       "        vertical-align: middle;\n",
       "    }\n",
       "\n",
       "    .dataframe tbody tr th {\n",
       "        vertical-align: top;\n",
       "    }\n",
       "\n",
       "    .dataframe thead th {\n",
       "        text-align: right;\n",
       "    }\n",
       "</style>\n",
       "<table border=\"1\" class=\"dataframe\">\n",
       "  <thead>\n",
       "    <tr style=\"text-align: right;\">\n",
       "      <th></th>\n",
       "      <th>genres</th>\n",
       "    </tr>\n",
       "  </thead>\n",
       "  <tbody>\n",
       "    <tr>\n",
       "      <th>0</th>\n",
       "      <td>Documentary,Short</td>\n",
       "    </tr>\n",
       "    <tr>\n",
       "      <th>1</th>\n",
       "      <td>Animation,Short</td>\n",
       "    </tr>\n",
       "    <tr>\n",
       "      <th>2</th>\n",
       "      <td>Animation,Comedy,Romance</td>\n",
       "    </tr>\n",
       "    <tr>\n",
       "      <th>3</th>\n",
       "      <td>Animation,Short</td>\n",
       "    </tr>\n",
       "    <tr>\n",
       "      <th>4</th>\n",
       "      <td>Comedy,Short</td>\n",
       "    </tr>\n",
       "    <tr>\n",
       "      <th>...</th>\n",
       "      <td>...</td>\n",
       "    </tr>\n",
       "    <tr>\n",
       "      <th>8130393</th>\n",
       "      <td>Action,Drama,Family</td>\n",
       "    </tr>\n",
       "    <tr>\n",
       "      <th>8130394</th>\n",
       "      <td>Action,Drama,Family</td>\n",
       "    </tr>\n",
       "    <tr>\n",
       "      <th>8130395</th>\n",
       "      <td>Action,Drama,Family</td>\n",
       "    </tr>\n",
       "    <tr>\n",
       "      <th>8130396</th>\n",
       "      <td>Short</td>\n",
       "    </tr>\n",
       "    <tr>\n",
       "      <th>8130397</th>\n",
       "      <td>Animation,Comedy,Family</td>\n",
       "    </tr>\n",
       "  </tbody>\n",
       "</table>\n",
       "<p>8130398 rows × 1 columns</p>\n",
       "</div>"
      ],
      "text/plain": [
       "                           genres\n",
       "0               Documentary,Short\n",
       "1                 Animation,Short\n",
       "2        Animation,Comedy,Romance\n",
       "3                 Animation,Short\n",
       "4                    Comedy,Short\n",
       "...                           ...\n",
       "8130393       Action,Drama,Family\n",
       "8130394       Action,Drama,Family\n",
       "8130395       Action,Drama,Family\n",
       "8130396                     Short\n",
       "8130397   Animation,Comedy,Family\n",
       "\n",
       "[8130398 rows x 1 columns]"
      ]
     },
     "metadata": {},
     "output_type": "display_data"
    }
   ],
   "source": [
    "display(resultado5)"
   ]
  },
  {
   "cell_type": "code",
   "execution_count": 91,
   "id": "35eb8f70",
   "metadata": {},
   "outputs": [],
   "source": [
    "# Retorna gêneros únicos\n",
    "generos_unicos = retorna_generos(resultado5)"
   ]
  },
  {
   "cell_type": "code",
   "execution_count": 92,
   "id": "9b02dcb2",
   "metadata": {},
   "outputs": [
    {
     "data": {
      "text/plain": [
       "['action',\n",
       " 'adult',\n",
       " 'adventure',\n",
       " 'animation',\n",
       " 'biography',\n",
       " 'comedy',\n",
       " 'crime',\n",
       " 'documentary',\n",
       " 'drama',\n",
       " 'family',\n",
       " 'fantasy',\n",
       " 'film-noir',\n",
       " 'game-show',\n",
       " 'history',\n",
       " 'horror',\n",
       " 'music',\n",
       " 'musical',\n",
       " 'mystery',\n",
       " 'news',\n",
       " 'reality-tv',\n",
       " 'romance',\n",
       " 'sci-fi',\n",
       " 'short',\n",
       " 'sport',\n",
       " 'talk-show',\n",
       " 'thriller',\n",
       " 'war',\n",
       " 'western']"
      ]
     },
     "execution_count": 92,
     "metadata": {},
     "output_type": "execute_result"
    }
   ],
   "source": [
    "# Visualiza o resultado\n",
    "generos_unicos"
   ]
  },
  {
   "cell_type": "code",
   "execution_count": 93,
   "id": "7a389b94",
   "metadata": {},
   "outputs": [],
   "source": [
    "# Agora fazemos a contagem\n",
    "genero_count = []\n",
    "for item in generos_unicos:\n",
    "    consulta = 'SELECT COUNT(*) COUNT FROM  titles  WHERE genres LIKE '+ '\\''+'%'+item+'%'+'\\' AND type=\\'movie\\' AND premiered <= 2022'\n",
    "    resultado = pd.read_sql_query(consulta, conn)\n",
    "    genero_count.append(resultado['COUNT'].values[0])"
   ]
  },
  {
   "cell_type": "code",
   "execution_count": 94,
   "id": "987d14ba",
   "metadata": {},
   "outputs": [],
   "source": [
    "# Prepara o dataframe\n",
    "df_genero_count = pd.DataFrame()\n",
    "df_genero_count['genre'] = generos_unicos\n",
    "df_genero_count['Count'] = genero_count"
   ]
  },
  {
   "cell_type": "code",
   "execution_count": 95,
   "id": "ca8d3dfe",
   "metadata": {},
   "outputs": [],
   "source": [
    "# Calcula os top 5\n",
    "df_genero_count = df_genero_count[df_genero_count['genre'] != 'n']\n",
    "df_genero_count = df_genero_count.sort_values(by = 'Count', ascending = False)\n",
    "top_generos = df_genero_count.head()['genre'].values"
   ]
  },
  {
   "cell_type": "code",
   "execution_count": 96,
   "id": "c8fb6483",
   "metadata": {},
   "outputs": [
    {
     "data": {
      "image/png": "[encoded data removed]",
      "text/plain": [
       "<Figure size 1152x576 with 1 Axes>"
      ]
     },
     "metadata": {},
     "output_type": "display_data"
    }
   ],
   "source": [
    "# Plot\n",
    "\n",
    "# Figura\n",
    "plt.figure(figsize = (16,8))\n",
    "\n",
    "# Loop e Plot\n",
    "for item in top_generos:\n",
    "    consulta = 'SELECT COUNT(*) Number_of_movies, premiered Year FROM  titles  WHERE genres LIKE '+ '\\''+'%'+item+'%'+'\\' AND type=\\'movie\\' AND Year <=2022 GROUP BY Year'\n",
    "    resultado = pd.read_sql_query(consulta, conn)\n",
    "    plt.plot(resultado['Year'], resultado['Number_of_movies'])\n",
    "\n",
    "plt.xlabel('\\nAno')\n",
    "plt.ylabel('Número de Filmes Avaliados')\n",
    "plt.title('\\nNúmero de Filmes Avaliados Por Gênero Em Relação ao Ano de Estréia\\n')\n",
    "plt.legend(labels = top_generos)\n",
    "plt.show()"
   ]
  },
  {
   "cell_type": "markdown",
   "id": "f3a4de34",
   "metadata": {},
   "source": [
    "## 6- Qual o Filme Com Maior Tempo de Duração? Calcule os Percentis.\n",
    "\n",
    "Percentis e filme mais longo da história."
   ]
  },
  {
   "cell_type": "code",
   "execution_count": 97,
   "id": "685b61f4",
   "metadata": {},
   "outputs": [],
   "source": [
    "# Consulta SQL\n",
    "consulta6 = '''\n",
    "            SELECT runtime_minutes Runtime \n",
    "            FROM titles \n",
    "            WHERE type = 'movie' AND Runtime != 'NaN'\n",
    "            ''' "
   ]
  },
  {
   "cell_type": "code",
   "execution_count": 98,
   "id": "d88c260c",
   "metadata": {},
   "outputs": [],
   "source": [
    "# Resultado\n",
    "resultado6 = pd.read_sql_query(consulta6, conn)"
   ]
  },
  {
   "cell_type": "code",
   "execution_count": 99,
   "id": "67947a2b",
   "metadata": {},
   "outputs": [
    {
     "data": {
      "text/html": [
       "<div>\n",
       "<style scoped>\n",
       "    .dataframe tbody tr th:only-of-type {\n",
       "        vertical-align: middle;\n",
       "    }\n",
       "\n",
       "    .dataframe tbody tr th {\n",
       "        vertical-align: top;\n",
       "    }\n",
       "\n",
       "    .dataframe thead th {\n",
       "        text-align: right;\n",
       "    }\n",
       "</style>\n",
       "<table border=\"1\" class=\"dataframe\">\n",
       "  <thead>\n",
       "    <tr style=\"text-align: right;\">\n",
       "      <th></th>\n",
       "      <th>Runtime</th>\n",
       "    </tr>\n",
       "  </thead>\n",
       "  <tbody>\n",
       "    <tr>\n",
       "      <th>0</th>\n",
       "      <td>100</td>\n",
       "    </tr>\n",
       "    <tr>\n",
       "      <th>1</th>\n",
       "      <td>70</td>\n",
       "    </tr>\n",
       "    <tr>\n",
       "      <th>2</th>\n",
       "      <td>90</td>\n",
       "    </tr>\n",
       "    <tr>\n",
       "      <th>3</th>\n",
       "      <td>120</td>\n",
       "    </tr>\n",
       "    <tr>\n",
       "      <th>4</th>\n",
       "      <td>58</td>\n",
       "    </tr>\n",
       "    <tr>\n",
       "      <th>...</th>\n",
       "      <td>...</td>\n",
       "    </tr>\n",
       "    <tr>\n",
       "      <th>367641</th>\n",
       "      <td>123</td>\n",
       "    </tr>\n",
       "    <tr>\n",
       "      <th>367642</th>\n",
       "      <td>57</td>\n",
       "    </tr>\n",
       "    <tr>\n",
       "      <th>367643</th>\n",
       "      <td>100</td>\n",
       "    </tr>\n",
       "    <tr>\n",
       "      <th>367644</th>\n",
       "      <td>116</td>\n",
       "    </tr>\n",
       "    <tr>\n",
       "      <th>367645</th>\n",
       "      <td>49</td>\n",
       "    </tr>\n",
       "  </tbody>\n",
       "</table>\n",
       "<p>367646 rows × 1 columns</p>\n",
       "</div>"
      ],
      "text/plain": [
       "        Runtime\n",
       "0           100\n",
       "1            70\n",
       "2            90\n",
       "3           120\n",
       "4            58\n",
       "...         ...\n",
       "367641      123\n",
       "367642       57\n",
       "367643      100\n",
       "367644      116\n",
       "367645       49\n",
       "\n",
       "[367646 rows x 1 columns]"
      ]
     },
     "metadata": {},
     "output_type": "display_data"
    }
   ],
   "source": [
    "display(resultado6)"
   ]
  },
  {
   "cell_type": "code",
   "execution_count": 100,
   "id": "a040d73c",
   "metadata": {},
   "outputs": [
    {
     "name": "stdout",
     "output_type": "stream",
     "text": [
      "0 percentil da duração (runtime) é: 1.0\n",
      "1 percentil da duração (runtime) é: 45.0\n",
      "2 percentil da duração (runtime) é: 48.0\n",
      "3 percentil da duração (runtime) é: 50.0\n",
      "4 percentil da duração (runtime) é: 50.0\n",
      "5 percentil da duração (runtime) é: 52.0\n",
      "6 percentil da duração (runtime) é: 52.0\n",
      "7 percentil da duração (runtime) é: 54.0\n",
      "8 percentil da duração (runtime) é: 55.0\n",
      "9 percentil da duração (runtime) é: 56.0\n",
      "10 percentil da duração (runtime) é: 58.0\n",
      "11 percentil da duração (runtime) é: 59.0\n",
      "12 percentil da duração (runtime) é: 60.0\n",
      "13 percentil da duração (runtime) é: 60.0\n",
      "14 percentil da duração (runtime) é: 60.0\n",
      "15 percentil da duração (runtime) é: 62.0\n",
      "16 percentil da duração (runtime) é: 63.0\n",
      "17 percentil da duração (runtime) é: 65.0\n",
      "18 percentil da duração (runtime) é: 66.0\n",
      "19 percentil da duração (runtime) é: 68.0\n",
      "20 percentil da duração (runtime) é: 70.0\n",
      "21 percentil da duração (runtime) é: 70.0\n",
      "22 percentil da duração (runtime) é: 71.0\n",
      "23 percentil da duração (runtime) é: 72.0\n",
      "24 percentil da duração (runtime) é: 73.0\n",
      "25 percentil da duração (runtime) é: 74.0\n",
      "26 percentil da duração (runtime) é: 75.0\n",
      "27 percentil da duração (runtime) é: 75.0\n",
      "28 percentil da duração (runtime) é: 76.0\n",
      "29 percentil da duração (runtime) é: 77.0\n",
      "30 percentil da duração (runtime) é: 78.0\n",
      "31 percentil da duração (runtime) é: 79.0\n",
      "32 percentil da duração (runtime) é: 80.0\n",
      "33 percentil da duração (runtime) é: 80.0\n",
      "34 percentil da duração (runtime) é: 80.0\n",
      "35 percentil da duração (runtime) é: 81.0\n",
      "36 percentil da duração (runtime) é: 82.0\n",
      "37 percentil da duração (runtime) é: 82.0\n",
      "38 percentil da duração (runtime) é: 83.0\n",
      "39 percentil da duração (runtime) é: 84.0\n",
      "40 percentil da duração (runtime) é: 84.0\n",
      "41 percentil da duração (runtime) é: 85.0\n",
      "42 percentil da duração (runtime) é: 85.0\n",
      "43 percentil da duração (runtime) é: 85.0\n",
      "44 percentil da duração (runtime) é: 86.0\n",
      "45 percentil da duração (runtime) é: 86.0\n",
      "46 percentil da duração (runtime) é: 87.0\n",
      "47 percentil da duração (runtime) é: 87.0\n",
      "48 percentil da duração (runtime) é: 88.0\n",
      "49 percentil da duração (runtime) é: 88.0\n",
      "50 percentil da duração (runtime) é: 89.0\n",
      "51 percentil da duração (runtime) é: 90.0\n",
      "52 percentil da duração (runtime) é: 90.0\n",
      "53 percentil da duração (runtime) é: 90.0\n",
      "54 percentil da duração (runtime) é: 90.0\n",
      "55 percentil da duração (runtime) é: 90.0\n",
      "56 percentil da duração (runtime) é: 90.0\n",
      "57 percentil da duração (runtime) é: 90.0\n",
      "58 percentil da duração (runtime) é: 91.0\n",
      "59 percentil da duração (runtime) é: 91.0\n",
      "60 percentil da duração (runtime) é: 92.0\n",
      "61 percentil da duração (runtime) é: 92.0\n",
      "62 percentil da duração (runtime) é: 93.0\n",
      "63 percentil da duração (runtime) é: 93.0\n",
      "64 percentil da duração (runtime) é: 94.0\n",
      "65 percentil da duração (runtime) é: 94.0\n",
      "66 percentil da duração (runtime) é: 95.0\n",
      "67 percentil da duração (runtime) é: 95.0\n",
      "68 percentil da duração (runtime) é: 96.0\n",
      "69 percentil da duração (runtime) é: 96.0\n",
      "70 percentil da duração (runtime) é: 97.0\n",
      "71 percentil da duração (runtime) é: 97.0\n",
      "72 percentil da duração (runtime) é: 98.0\n",
      "73 percentil da duração (runtime) é: 99.0\n",
      "74 percentil da duração (runtime) é: 100.0\n",
      "75 percentil da duração (runtime) é: 100.0\n",
      "76 percentil da duração (runtime) é: 100.0\n",
      "77 percentil da duração (runtime) é: 101.0\n",
      "78 percentil da duração (runtime) é: 102.0\n",
      "79 percentil da duração (runtime) é: 103.0\n",
      "80 percentil da duração (runtime) é: 104.0\n",
      "81 percentil da duração (runtime) é: 105.0\n",
      "82 percentil da duração (runtime) é: 106.0\n",
      "83 percentil da duração (runtime) é: 107.0\n",
      "84 percentil da duração (runtime) é: 108.0\n",
      "85 percentil da duração (runtime) é: 110.0\n",
      "86 percentil da duração (runtime) é: 110.0\n",
      "87 percentil da duração (runtime) é: 112.0\n",
      "88 percentil da duração (runtime) é: 114.0\n",
      "89 percentil da duração (runtime) é: 116.0\n",
      "90 percentil da duração (runtime) é: 119.0\n",
      "91 percentil da duração (runtime) é: 120.0\n",
      "92 percentil da duração (runtime) é: 122.0\n",
      "93 percentil da duração (runtime) é: 126.0\n",
      "94 percentil da duração (runtime) é: 130.0\n",
      "95 percentil da duração (runtime) é: 134.0\n",
      "96 percentil da duração (runtime) é: 139.0\n",
      "97 percentil da duração (runtime) é: 145.0\n",
      "98 percentil da duração (runtime) é: 153.0\n",
      "99 percentil da duração (runtime) é: 168.0\n",
      "100 percentil da duração (runtime) é: 51420.0\n"
     ]
    }
   ],
   "source": [
    "# Loop para cálculo dos percentis\n",
    "for i in range(101): \n",
    "    val = i\n",
    "    perc = round(np.percentile(resultado6['Runtime'].values, val), 2)\n",
    "    print('{} percentil da duração (runtime) é: {}'.format(val, perc))"
   ]
  },
  {
   "cell_type": "code",
   "execution_count": 101,
   "id": "67a86bba",
   "metadata": {},
   "outputs": [],
   "source": [
    "# Refazendo a consulta e retornando o filme com maior duração\n",
    "consulta6 = '''\n",
    "            SELECT runtime_minutes Runtime, primary_title\n",
    "            FROM titles \n",
    "            WHERE type = 'movie' AND Runtime != 'NaN'\n",
    "            ORDER BY Runtime DESC\n",
    "            LIMIT 1\n",
    "            ''' "
   ]
  },
  {
   "cell_type": "code",
   "execution_count": 102,
   "id": "3686517a",
   "metadata": {},
   "outputs": [],
   "source": [
    "resultado6 = pd.read_sql_query(consulta6, conn)"
   ]
  },
  {
   "cell_type": "code",
   "execution_count": 103,
   "id": "806862f3",
   "metadata": {},
   "outputs": [
    {
     "data": {
      "text/html": [
       "<div>\n",
       "<style scoped>\n",
       "    .dataframe tbody tr th:only-of-type {\n",
       "        vertical-align: middle;\n",
       "    }\n",
       "\n",
       "    .dataframe tbody tr th {\n",
       "        vertical-align: top;\n",
       "    }\n",
       "\n",
       "    .dataframe thead th {\n",
       "        text-align: right;\n",
       "    }\n",
       "</style>\n",
       "<table border=\"1\" class=\"dataframe\">\n",
       "  <thead>\n",
       "    <tr style=\"text-align: right;\">\n",
       "      <th></th>\n",
       "      <th>Runtime</th>\n",
       "      <th>primary_title</th>\n",
       "    </tr>\n",
       "  </thead>\n",
       "  <tbody>\n",
       "    <tr>\n",
       "      <th>0</th>\n",
       "      <td>51420</td>\n",
       "      <td>Logistics</td>\n",
       "    </tr>\n",
       "  </tbody>\n",
       "</table>\n",
       "</div>"
      ],
      "text/plain": [
       "   Runtime primary_title\n",
       "0    51420     Logistics"
      ]
     },
     "execution_count": 103,
     "metadata": {},
     "output_type": "execute_result"
    }
   ],
   "source": [
    "resultado6"
   ]
  },
  {
   "cell_type": "markdown",
   "id": "656e51b3",
   "metadata": {},
   "source": [
    "## 7- Qual a Relação Entre Duração e Gênero?\n",
    "\n",
    "Relação entre duração do filme e gênero."
   ]
  },
  {
   "cell_type": "code",
   "execution_count": 7,
   "id": "38eee29f",
   "metadata": {},
   "outputs": [],
   "source": [
    "# Consulta SQL\n",
    "consulta7 = '''\n",
    "            SELECT AVG(runtime_minutes) Runtime, genres \n",
    "            FROM titles \n",
    "            WHERE type = 'movie'\n",
    "            AND runtime_minutes != 'NaN'\n",
    "            GROUP BY genres\n",
    "            ''' "
   ]
  },
  {
   "cell_type": "code",
   "execution_count": 8,
   "id": "4402c346",
   "metadata": {},
   "outputs": [],
   "source": [
    "# Resultado\n",
    "resultado7 = pd.read_sql_query(consulta7, conn)"
   ]
  },
  {
   "cell_type": "code",
   "execution_count": 9,
   "id": "868e5467",
   "metadata": {},
   "outputs": [],
   "source": [
    "# Retorna gêneros únicos\n",
    "generos_unicos = retorna_generos(resultado7)"
   ]
  },
  {
   "cell_type": "code",
   "execution_count": 10,
   "id": "9a8a958a",
   "metadata": {},
   "outputs": [
    {
     "data": {
      "text/plain": [
       "['action',\n",
       " 'adult',\n",
       " 'adventure',\n",
       " 'animation',\n",
       " 'biography',\n",
       " 'comedy',\n",
       " 'crime',\n",
       " 'documentary',\n",
       " 'drama',\n",
       " 'family',\n",
       " 'fantasy',\n",
       " 'film-noir',\n",
       " 'game-show',\n",
       " 'history',\n",
       " 'horror',\n",
       " 'music',\n",
       " 'musical',\n",
       " 'mystery',\n",
       " 'news',\n",
       " 'reality-tv',\n",
       " 'romance',\n",
       " 'sci-fi',\n",
       " 'short',\n",
       " 'sport',\n",
       " 'talk-show',\n",
       " 'thriller',\n",
       " 'war',\n",
       " 'western']"
      ]
     },
     "execution_count": 10,
     "metadata": {},
     "output_type": "execute_result"
    }
   ],
   "source": [
    "# Visualiza\n",
    "generos_unicos"
   ]
  },
  {
   "cell_type": "code",
   "execution_count": 11,
   "id": "b0024448",
   "metadata": {},
   "outputs": [],
   "source": [
    "# Calcula duração por gênero\n",
    "genero_runtime = []\n",
    "for item in generos_unicos:\n",
    "    consulta = 'SELECT runtime_minutes Runtime FROM  titles  WHERE genres LIKE '+ '\\''+'%'+item+'%'+'\\' AND type=\\'movie\\' AND Runtime!=\\'NaN\\''\n",
    "    resultado = pd.read_sql_query(consulta, conn)\n",
    "    genero_runtime.append(np.median(resultado['Runtime']))"
   ]
  },
  {
   "cell_type": "code",
   "execution_count": 12,
   "id": "defc862e",
   "metadata": {},
   "outputs": [],
   "source": [
    "# Prepara o dataframe\n",
    "df_genero_runtime = pd.DataFrame()\n",
    "df_genero_runtime['genre'] = generos_unicos\n",
    "df_genero_runtime['runtime'] = genero_runtime"
   ]
  },
  {
   "cell_type": "code",
   "execution_count": 13,
   "id": "8c9ddd54",
   "metadata": {},
   "outputs": [],
   "source": [
    "# Remove índice 18 (news)\n",
    "df_genero_runtime = df_genero_runtime.drop(index = 18)"
   ]
  },
  {
   "cell_type": "code",
   "execution_count": 14,
   "id": "16a47e2b",
   "metadata": {},
   "outputs": [],
   "source": [
    "# Ordena os dados\n",
    "df_genero_runtime = df_genero_runtime.sort_values(by = 'runtime', ascending = False)"
   ]
  },
  {
   "cell_type": "code",
   "execution_count": 15,
   "id": "5ed63417",
   "metadata": {},
   "outputs": [
    {
     "data": {
      "image/png": "[encoded data removed]",
      "text/plain": [
       "<Figure size 1152x576 with 1 Axes>"
      ]
     },
     "metadata": {},
     "output_type": "display_data"
    }
   ],
   "source": [
    "# Plot\n",
    "\n",
    "# Tamanho da figura\n",
    "plt.figure(figsize = (16,8))\n",
    "\n",
    "# Barplot\n",
    "sns.barplot(y = df_genero_runtime.genre, x = df_genero_runtime.runtime, orient = \"h\")\n",
    "\n",
    "# Loop\n",
    "for i in range(len(df_genero_runtime.index)):\n",
    "    plt.text(df_genero_runtime.runtime[df_genero_runtime.index[i]],\n",
    "             i + 0.25,\n",
    "             round(df_genero_runtime[\"runtime\"][df_genero_runtime.index[i]], 2))\n",
    "\n",
    "plt.ylabel('Gênero')             \n",
    "plt.xlabel('\\nMediana de Tempo de Duração (Minutos)')\n",
    "plt.title('\\nRelação Entre Duração e Gênero\\n')\n",
    "plt.show()"
   ]
  },
  {
   "cell_type": "markdown",
   "id": "6b82fcfd",
   "metadata": {},
   "source": [
    "## 8- Qual o Número de Filmes Produzidos Por País?\n",
    "\n",
    "Número de filmes produzidos por país."
   ]
  },
  {
   "cell_type": "code",
   "execution_count": 16,
   "id": "f73c15c0",
   "metadata": {},
   "outputs": [],
   "source": [
    "# Consulta SQL\n",
    "consulta8 = '''\n",
    "            SELECT region, COUNT(*) Number_of_movies FROM \n",
    "            akas JOIN titles ON \n",
    "            akas.title_id = titles.title_id\n",
    "            WHERE region != 'None'\n",
    "            AND type = \\'movie\\'\n",
    "            GROUP BY region\n",
    "            ''' "
   ]
  },
  {
   "cell_type": "code",
   "execution_count": 17,
   "id": "1a5ec888",
   "metadata": {},
   "outputs": [],
   "source": [
    "# Resultado\n",
    "resultado8 = pd.read_sql_query(consulta8, conn)"
   ]
  },
  {
   "cell_type": "code",
   "execution_count": 18,
   "id": "4fbc5fc4",
   "metadata": {},
   "outputs": [
    {
     "data": {
      "text/html": [
       "<div>\n",
       "<style scoped>\n",
       "    .dataframe tbody tr th:only-of-type {\n",
       "        vertical-align: middle;\n",
       "    }\n",
       "\n",
       "    .dataframe tbody tr th {\n",
       "        vertical-align: top;\n",
       "    }\n",
       "\n",
       "    .dataframe thead th {\n",
       "        text-align: right;\n",
       "    }\n",
       "</style>\n",
       "<table border=\"1\" class=\"dataframe\">\n",
       "  <thead>\n",
       "    <tr style=\"text-align: right;\">\n",
       "      <th></th>\n",
       "      <th>region</th>\n",
       "      <th>Number_of_movies</th>\n",
       "    </tr>\n",
       "  </thead>\n",
       "  <tbody>\n",
       "    <tr>\n",
       "      <th>0</th>\n",
       "      <td>AD</td>\n",
       "      <td>22</td>\n",
       "    </tr>\n",
       "    <tr>\n",
       "      <th>1</th>\n",
       "      <td>AE</td>\n",
       "      <td>336</td>\n",
       "    </tr>\n",
       "    <tr>\n",
       "      <th>2</th>\n",
       "      <td>AF</td>\n",
       "      <td>108</td>\n",
       "    </tr>\n",
       "    <tr>\n",
       "      <th>3</th>\n",
       "      <td>AG</td>\n",
       "      <td>12</td>\n",
       "    </tr>\n",
       "    <tr>\n",
       "      <th>4</th>\n",
       "      <td>AL</td>\n",
       "      <td>1229</td>\n",
       "    </tr>\n",
       "    <tr>\n",
       "      <th>...</th>\n",
       "      <td>...</td>\n",
       "      <td>...</td>\n",
       "    </tr>\n",
       "    <tr>\n",
       "      <th>228</th>\n",
       "      <td>YUCS</td>\n",
       "      <td>146</td>\n",
       "    </tr>\n",
       "    <tr>\n",
       "      <th>229</th>\n",
       "      <td>ZA</td>\n",
       "      <td>3000</td>\n",
       "    </tr>\n",
       "    <tr>\n",
       "      <th>230</th>\n",
       "      <td>ZM</td>\n",
       "      <td>11</td>\n",
       "    </tr>\n",
       "    <tr>\n",
       "      <th>231</th>\n",
       "      <td>ZRCD</td>\n",
       "      <td>2</td>\n",
       "    </tr>\n",
       "    <tr>\n",
       "      <th>232</th>\n",
       "      <td>ZW</td>\n",
       "      <td>47</td>\n",
       "    </tr>\n",
       "  </tbody>\n",
       "</table>\n",
       "<p>233 rows × 2 columns</p>\n",
       "</div>"
      ],
      "text/plain": [
       "    region  Number_of_movies\n",
       "0       AD                22\n",
       "1       AE               336\n",
       "2       AF               108\n",
       "3       AG                12\n",
       "4       AL              1229\n",
       "..     ...               ...\n",
       "228   YUCS               146\n",
       "229     ZA              3000\n",
       "230     ZM                11\n",
       "231   ZRCD                 2\n",
       "232     ZW                47\n",
       "\n",
       "[233 rows x 2 columns]"
      ]
     },
     "metadata": {},
     "output_type": "display_data"
    }
   ],
   "source": [
    "display(resultado8)"
   ]
  },
  {
   "cell_type": "code",
   "execution_count": 19,
   "id": "5c70492c",
   "metadata": {},
   "outputs": [
    {
     "data": {
      "text/plain": [
       "(233, 2)"
      ]
     },
     "execution_count": 19,
     "metadata": {},
     "output_type": "execute_result"
    }
   ],
   "source": [
    "# Shape\n",
    "resultado8.shape"
   ]
  },
  {
   "cell_type": "code",
   "execution_count": 20,
   "id": "877ef244",
   "metadata": {},
   "outputs": [
    {
     "data": {
      "text/plain": [
       "233"
      ]
     },
     "execution_count": 20,
     "metadata": {},
     "output_type": "execute_result"
    }
   ],
   "source": [
    "# Número de linhas\n",
    "resultado8.shape[0]"
   ]
  },
  {
   "cell_type": "code",
   "execution_count": 21,
   "id": "20823ae5",
   "metadata": {},
   "outputs": [],
   "source": [
    "# Listas auxiliares\n",
    "nomes_paises = []\n",
    "contagem = []"
   ]
  },
  {
   "cell_type": "code",
   "execution_count": 22,
   "id": "b6b0bca3",
   "metadata": {},
   "outputs": [],
   "source": [
    "# Loop para obter o país de acordo com a região\n",
    "for i in range(resultado8.shape[0]):\n",
    "    try:\n",
    "        coun = resultado8['region'].values[i]\n",
    "        nomes_paises.append(pycountry.countries.get(alpha_2 = coun).name)\n",
    "        contagem.append(resultado8['Number_of_movies'].values[i])\n",
    "    except: \n",
    "        continue"
   ]
  },
  {
   "cell_type": "code",
   "execution_count": 23,
   "id": "37938e83",
   "metadata": {},
   "outputs": [],
   "source": [
    "# Prepara o dataframe\n",
    "df_filmes_paises = pd.DataFrame()\n",
    "df_filmes_paises['country'] = nomes_paises\n",
    "df_filmes_paises['Movie_Count'] = contagem"
   ]
  },
  {
   "cell_type": "code",
   "execution_count": 24,
   "id": "132253d5",
   "metadata": {},
   "outputs": [],
   "source": [
    "# Ordena o resultado\n",
    "df_filmes_paises = df_filmes_paises.sort_values(by = 'Movie_Count', ascending = False)"
   ]
  },
  {
   "cell_type": "code",
   "execution_count": 25,
   "id": "b1f78946",
   "metadata": {},
   "outputs": [
    {
     "data": {
      "text/html": [
       "<div>\n",
       "<style scoped>\n",
       "    .dataframe tbody tr th:only-of-type {\n",
       "        vertical-align: middle;\n",
       "    }\n",
       "\n",
       "    .dataframe tbody tr th {\n",
       "        vertical-align: top;\n",
       "    }\n",
       "\n",
       "    .dataframe thead th {\n",
       "        text-align: right;\n",
       "    }\n",
       "</style>\n",
       "<table border=\"1\" class=\"dataframe\">\n",
       "  <thead>\n",
       "    <tr style=\"text-align: right;\">\n",
       "      <th></th>\n",
       "      <th>country</th>\n",
       "      <th>Movie_Count</th>\n",
       "    </tr>\n",
       "  </thead>\n",
       "  <tbody>\n",
       "    <tr>\n",
       "      <th>199</th>\n",
       "      <td>United States</td>\n",
       "      <td>259175</td>\n",
       "    </tr>\n",
       "    <tr>\n",
       "      <th>65</th>\n",
       "      <td>United Kingdom</td>\n",
       "      <td>117042</td>\n",
       "    </tr>\n",
       "    <tr>\n",
       "      <th>96</th>\n",
       "      <td>Japan</td>\n",
       "      <td>88183</td>\n",
       "    </tr>\n",
       "    <tr>\n",
       "      <th>63</th>\n",
       "      <td>France</td>\n",
       "      <td>81324</td>\n",
       "    </tr>\n",
       "    <tr>\n",
       "      <th>89</th>\n",
       "      <td>India</td>\n",
       "      <td>72077</td>\n",
       "    </tr>\n",
       "    <tr>\n",
       "      <th>32</th>\n",
       "      <td>Canada</td>\n",
       "      <td>68628</td>\n",
       "    </tr>\n",
       "    <tr>\n",
       "      <th>47</th>\n",
       "      <td>Germany</td>\n",
       "      <td>65836</td>\n",
       "    </tr>\n",
       "    <tr>\n",
       "      <th>93</th>\n",
       "      <td>Italy</td>\n",
       "      <td>63264</td>\n",
       "    </tr>\n",
       "    <tr>\n",
       "      <th>26</th>\n",
       "      <td>Brazil</td>\n",
       "      <td>62077</td>\n",
       "    </tr>\n",
       "    <tr>\n",
       "      <th>58</th>\n",
       "      <td>Spain</td>\n",
       "      <td>61973</td>\n",
       "    </tr>\n",
       "  </tbody>\n",
       "</table>\n",
       "</div>"
      ],
      "text/plain": [
       "            country  Movie_Count\n",
       "199   United States       259175\n",
       "65   United Kingdom       117042\n",
       "96            Japan        88183\n",
       "63           France        81324\n",
       "89            India        72077\n",
       "32           Canada        68628\n",
       "47          Germany        65836\n",
       "93            Italy        63264\n",
       "26           Brazil        62077\n",
       "58            Spain        61973"
      ]
     },
     "execution_count": 25,
     "metadata": {},
     "output_type": "execute_result"
    }
   ],
   "source": [
    "# Visualiza\n",
    "df_filmes_paises.head(10)"
   ]
  },
  {
   "cell_type": "code",
   "execution_count": 26,
   "id": "7bd2b74d",
   "metadata": {},
   "outputs": [
    {
     "data": {
      "image/png": "[encoded data removed]",
      "text/plain": [
       "<Figure size 1440x576 with 1 Axes>"
      ]
     },
     "metadata": {},
     "output_type": "display_data"
    }
   ],
   "source": [
    "# Plot\n",
    "\n",
    "# Figura\n",
    "plt.figure(figsize = (20,8))\n",
    "\n",
    "# Barplot\n",
    "sns.barplot(y = df_filmes_paises[:20].country, x = df_filmes_paises[:20].Movie_Count, orient = \"h\")\n",
    "\n",
    "# Loop\n",
    "for i in range(0,20):\n",
    "    plt.text(df_filmes_paises.Movie_Count[df_filmes_paises.index[i]]-1,\n",
    "             i + 0.30,\n",
    "             round(df_filmes_paises[\"Movie_Count\"][df_filmes_paises.index[i]],2))\n",
    "\n",
    "plt.ylabel('País')             \n",
    "plt.xlabel('\\nNúmero de Filmes')\n",
    "plt.title('\\nNúmero de Filmes Produzidos Por País\\n')\n",
    "plt.show()"
   ]
  },
  {
   "cell_type": "markdown",
   "id": "3e9ae1c3",
   "metadata": {},
   "source": [
    "## 9- Quais São os Top 10 Melhores Filmes?\n",
    "\n",
    "Top 10 filmes com melhor avaliação e mais de 25 mil votos."
   ]
  },
  {
   "cell_type": "code",
   "execution_count": 27,
   "id": "d0be6482",
   "metadata": {},
   "outputs": [],
   "source": [
    "# Consulta SQL\n",
    "consulta9 = '''\n",
    "            SELECT primary_title AS Movie_Name, genres, rating\n",
    "            FROM \n",
    "            titles JOIN ratings\n",
    "            ON  titles.title_id = ratings.title_id\n",
    "            WHERE titles.type = 'movie' AND ratings.votes >= 25000\n",
    "            ORDER BY rating DESC\n",
    "            LIMIT 10          \n",
    "            ''' "
   ]
  },
  {
   "cell_type": "code",
   "execution_count": 28,
   "id": "ab6eec99",
   "metadata": {},
   "outputs": [],
   "source": [
    "# Resultado\n",
    "top10_melhores_filmes = pd.read_sql_query(consulta9, conn)"
   ]
  },
  {
   "cell_type": "code",
   "execution_count": 29,
   "id": "8cc28289",
   "metadata": {},
   "outputs": [
    {
     "data": {
      "text/html": [
       "<div>\n",
       "<style scoped>\n",
       "    .dataframe tbody tr th:only-of-type {\n",
       "        vertical-align: middle;\n",
       "    }\n",
       "\n",
       "    .dataframe tbody tr th {\n",
       "        vertical-align: top;\n",
       "    }\n",
       "\n",
       "    .dataframe thead th {\n",
       "        text-align: right;\n",
       "    }\n",
       "</style>\n",
       "<table border=\"1\" class=\"dataframe\">\n",
       "  <thead>\n",
       "    <tr style=\"text-align: right;\">\n",
       "      <th></th>\n",
       "      <th>Movie_Name</th>\n",
       "      <th>genres</th>\n",
       "      <th>rating</th>\n",
       "    </tr>\n",
       "  </thead>\n",
       "  <tbody>\n",
       "    <tr>\n",
       "      <th>0</th>\n",
       "      <td>The Shawshank Redemption</td>\n",
       "      <td>Drama</td>\n",
       "      <td>9.3</td>\n",
       "    </tr>\n",
       "    <tr>\n",
       "      <th>1</th>\n",
       "      <td>The Chaos Class</td>\n",
       "      <td>Comedy,Drama</td>\n",
       "      <td>9.3</td>\n",
       "    </tr>\n",
       "    <tr>\n",
       "      <th>2</th>\n",
       "      <td>The Godfather</td>\n",
       "      <td>Crime,Drama</td>\n",
       "      <td>9.2</td>\n",
       "    </tr>\n",
       "    <tr>\n",
       "      <th>3</th>\n",
       "      <td>CM101MMXI Fundamentals</td>\n",
       "      <td>Comedy,Documentary</td>\n",
       "      <td>9.2</td>\n",
       "    </tr>\n",
       "    <tr>\n",
       "      <th>4</th>\n",
       "      <td>Soorarai Pottru</td>\n",
       "      <td>Drama</td>\n",
       "      <td>9.1</td>\n",
       "    </tr>\n",
       "    <tr>\n",
       "      <th>5</th>\n",
       "      <td>12 Angry Men</td>\n",
       "      <td>Crime,Drama</td>\n",
       "      <td>9.0</td>\n",
       "    </tr>\n",
       "    <tr>\n",
       "      <th>6</th>\n",
       "      <td>The Godfather: Part II</td>\n",
       "      <td>Crime,Drama</td>\n",
       "      <td>9.0</td>\n",
       "    </tr>\n",
       "    <tr>\n",
       "      <th>7</th>\n",
       "      <td>The Dark Knight</td>\n",
       "      <td>Action,Crime,Drama</td>\n",
       "      <td>9.0</td>\n",
       "    </tr>\n",
       "    <tr>\n",
       "      <th>8</th>\n",
       "      <td>David Attenborough: A Life on Our Planet</td>\n",
       "      <td>Biography,Documentary</td>\n",
       "      <td>9.0</td>\n",
       "    </tr>\n",
       "    <tr>\n",
       "      <th>9</th>\n",
       "      <td>Schindler's List</td>\n",
       "      <td>Biography,Drama,History</td>\n",
       "      <td>8.9</td>\n",
       "    </tr>\n",
       "  </tbody>\n",
       "</table>\n",
       "</div>"
      ],
      "text/plain": [
       "                                 Movie_Name                   genres  rating\n",
       "0                  The Shawshank Redemption                    Drama     9.3\n",
       "1                           The Chaos Class             Comedy,Drama     9.3\n",
       "2                             The Godfather              Crime,Drama     9.2\n",
       "3                    CM101MMXI Fundamentals       Comedy,Documentary     9.2\n",
       "4                           Soorarai Pottru                    Drama     9.1\n",
       "5                              12 Angry Men              Crime,Drama     9.0\n",
       "6                    The Godfather: Part II              Crime,Drama     9.0\n",
       "7                           The Dark Knight       Action,Crime,Drama     9.0\n",
       "8  David Attenborough: A Life on Our Planet    Biography,Documentary     9.0\n",
       "9                          Schindler's List  Biography,Drama,History     8.9"
      ]
     },
     "metadata": {},
     "output_type": "display_data"
    }
   ],
   "source": [
    "display(top10_melhores_filmes)"
   ]
  },
  {
   "cell_type": "markdown",
   "id": "ce25904b",
   "metadata": {},
   "source": [
    "## 10- Quais São os Top 10 Piores Filmes?\n",
    "\n",
    "Top 10 filmes com pior avaliação e mais de 25 mil votos."
   ]
  },
  {
   "cell_type": "code",
   "execution_count": 30,
   "id": "ccd189d3",
   "metadata": {},
   "outputs": [],
   "source": [
    "# Consulta SQL\n",
    "consulta10 = '''\n",
    "            SELECT primary_title AS Movie_Name, genres, rating\n",
    "            FROM \n",
    "            titles JOIN ratings\n",
    "            ON  titles.title_id = ratings.title_id\n",
    "            WHERE titles.type = 'movie' AND ratings.votes >= 25000\n",
    "            ORDER BY rating ASC\n",
    "            LIMIT 10\n",
    "            ''' "
   ]
  },
  {
   "cell_type": "code",
   "execution_count": 31,
   "id": "2e85451c",
   "metadata": {},
   "outputs": [],
   "source": [
    "# Resultado\n",
    "top10_piores_filmes = pd.read_sql_query(consulta10, conn)"
   ]
  },
  {
   "cell_type": "code",
   "execution_count": 32,
   "id": "6e94d66f",
   "metadata": {
    "scrolled": true
   },
   "outputs": [
    {
     "data": {
      "text/html": [
       "<div>\n",
       "<style scoped>\n",
       "    .dataframe tbody tr th:only-of-type {\n",
       "        vertical-align: middle;\n",
       "    }\n",
       "\n",
       "    .dataframe tbody tr th {\n",
       "        vertical-align: top;\n",
       "    }\n",
       "\n",
       "    .dataframe thead th {\n",
       "        text-align: right;\n",
       "    }\n",
       "</style>\n",
       "<table border=\"1\" class=\"dataframe\">\n",
       "  <thead>\n",
       "    <tr style=\"text-align: right;\">\n",
       "      <th></th>\n",
       "      <th>Movie_Name</th>\n",
       "      <th>genres</th>\n",
       "      <th>rating</th>\n",
       "    </tr>\n",
       "  </thead>\n",
       "  <tbody>\n",
       "    <tr>\n",
       "      <th>0</th>\n",
       "      <td>Cumali Ceber</td>\n",
       "      <td>Comedy</td>\n",
       "      <td>1.0</td>\n",
       "    </tr>\n",
       "    <tr>\n",
       "      <th>1</th>\n",
       "      <td>Smolensk</td>\n",
       "      <td>Drama,Thriller</td>\n",
       "      <td>1.1</td>\n",
       "    </tr>\n",
       "    <tr>\n",
       "      <th>2</th>\n",
       "      <td>Sadak 2</td>\n",
       "      <td>Action,Drama</td>\n",
       "      <td>1.1</td>\n",
       "    </tr>\n",
       "    <tr>\n",
       "      <th>3</th>\n",
       "      <td>Reis</td>\n",
       "      <td>Biography,Drama</td>\n",
       "      <td>1.4</td>\n",
       "    </tr>\n",
       "    <tr>\n",
       "      <th>4</th>\n",
       "      <td>Justin Bieber: Never Say Never</td>\n",
       "      <td>Documentary,Music</td>\n",
       "      <td>1.6</td>\n",
       "    </tr>\n",
       "    <tr>\n",
       "      <th>5</th>\n",
       "      <td>Manos: The Hands of Fate</td>\n",
       "      <td>Drama,Horror</td>\n",
       "      <td>1.8</td>\n",
       "    </tr>\n",
       "    <tr>\n",
       "      <th>6</th>\n",
       "      <td>Radhe</td>\n",
       "      <td>Action,Crime,Thriller</td>\n",
       "      <td>1.8</td>\n",
       "    </tr>\n",
       "    <tr>\n",
       "      <th>7</th>\n",
       "      <td>Superbabies: Baby Geniuses 2</td>\n",
       "      <td>Comedy,Family,Sci-Fi</td>\n",
       "      <td>1.9</td>\n",
       "    </tr>\n",
       "    <tr>\n",
       "      <th>8</th>\n",
       "      <td>The Hottie &amp; the Nottie</td>\n",
       "      <td>Comedy,Romance</td>\n",
       "      <td>1.9</td>\n",
       "    </tr>\n",
       "    <tr>\n",
       "      <th>9</th>\n",
       "      <td>Disaster Movie</td>\n",
       "      <td>Comedy,Sci-Fi</td>\n",
       "      <td>1.9</td>\n",
       "    </tr>\n",
       "  </tbody>\n",
       "</table>\n",
       "</div>"
      ],
      "text/plain": [
       "                       Movie_Name                 genres  rating\n",
       "0                    Cumali Ceber                 Comedy     1.0\n",
       "1                        Smolensk         Drama,Thriller     1.1\n",
       "2                         Sadak 2           Action,Drama     1.1\n",
       "3                            Reis        Biography,Drama     1.4\n",
       "4  Justin Bieber: Never Say Never      Documentary,Music     1.6\n",
       "5        Manos: The Hands of Fate           Drama,Horror     1.8\n",
       "6                           Radhe  Action,Crime,Thriller     1.8\n",
       "7    Superbabies: Baby Geniuses 2   Comedy,Family,Sci-Fi     1.9\n",
       "8         The Hottie & the Nottie         Comedy,Romance     1.9\n",
       "9                  Disaster Movie          Comedy,Sci-Fi     1.9"
      ]
     },
     "metadata": {},
     "output_type": "display_data"
    }
   ],
   "source": [
    "display(top10_piores_filmes)"
   ]
  },
  {
   "cell_type": "code",
   "execution_count": null,
   "id": "35793ecf",
   "metadata": {},
   "outputs": [],
   "source": []
  }
 ],
 "metadata": {
  "kernelspec": {
   "display_name": "Python 3",
   "language": "python",
   "name": "python3"
  },
  "language_info": {
   "codemirror_mode": {
    "name": "ipython",
    "version": 3
   },
   "file_extension": ".py",
   "mimetype": "text/x-python",
   "name": "python",
   "nbconvert_exporter": "python",
   "pygments_lexer": "ipython3",
   "version": "3.8.8"
  }
 },
 "nbformat": 4,
 "nbformat_minor": 5
}
